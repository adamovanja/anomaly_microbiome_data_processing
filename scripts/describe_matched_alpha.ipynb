{
  "cells": [
    {
      "cell_type": "markdown",
      "metadata": {},
      "source": [
        "# Explore alpha diversity in dataset\n"
      ]
    },
    {
      "cell_type": "markdown",
      "metadata": {},
      "source": [
        "## Setup"
      ]
    },
    {
      "cell_type": "code",
      "execution_count": null,
      "metadata": {},
      "outputs": [],
      "source": [
        "import os\n",
        "\n",
        "import matplotlib.pyplot as plt\n",
        "import numpy as np\n",
        "import pandas as pd\n",
        "import seaborn as sns\n",
        "from matplotlib.ticker import FixedLocator\n",
        "from src.viz_alpha_div import (\n",
        "    assign_columns_for_plots,\n",
        "    boxplot_all_div_metrics_over_time,\n",
        "    calculate_nth_abx_effect_on_diversity,\n",
        "    lineplot_all_div_metrics_over_time,\n",
        "    plot_diversity_difference,\n",
        "    read_and_prep_abx_exposure_data,\n",
        "    select_samples_around_nth_abx_exposure,\n",
        ")\n",
        "\n",
        "%load_ext autoreload\n",
        "%autoreload 2\n",
        "%matplotlib inline\n",
        "\n",
        "plt.rcParams.update({\"font.family\": \"DejaVu Sans\"})\n",
        "plt.style.use(\"tableau-colorblind10\")"
      ]
    },
    {
      "cell_type": "code",
      "execution_count": null,
      "metadata": {},
      "outputs": [],
      "source": [
        "# USER DEFINED variables\n",
        "tag = \"20240806\"\n",
        "tag_output = \"entero_family\"\n",
        "path_to_data = \"../data/final/\"\n",
        "\n",
        "# END USER DEFINED variables"
      ]
    },
    {
      "cell_type": "code",
      "execution_count": null,
      "metadata": {},
      "outputs": [],
      "source": [
        "# Setting all paths needed\n",
        "path_to_ft = os.path.join(path_to_data, f\"ft_vat19_anomaly_v{tag}_{tag_output}.tsv\")\n",
        "path_to_abx = os.path.join(path_to_data, f\"ts_vat19_abx_v{tag}.tsv\")\n",
        "\n",
        "# location to save all outputs of this notebook\n",
        "path_to_output = os.path.join(\"../results\", f\"desc_{tag}_{tag_output}\")\n",
        "if not os.path.isdir(path_to_output):\n",
        "    os.makedirs(path_to_output)"
      ]
    },
    {
      "cell_type": "markdown",
      "metadata": {},
      "source": [
        "## Read datasets"
      ]
    },
    {
      "cell_type": "code",
      "execution_count": null,
      "metadata": {},
      "outputs": [],
      "source": [
        "abx_df = read_and_prep_abx_exposure_data(path_to_abx)\n",
        "md_df = pd.read_csv(path_to_ft, sep=\"\\t\")\n",
        "md_df = assign_columns_for_plots(md_df)\n",
        "\n",
        "# add simple abx no and yes feature\n",
        "md_df[\"abx\"] = \"no\"\n",
        "md_df.loc[md_df[\"max_abx_w_microbiome\"] > 0.0, \"abx\"] = \"yes\"\n",
        "\n",
        "div_metrics = [\"div_alpha_faith_pd\", \"div_alpha_observed_features\", \"div_alpha_shannon\"]"
      ]
    },
    {
      "cell_type": "code",
      "execution_count": null,
      "metadata": {},
      "outputs": [],
      "source": [
        "noabx = md_df.loc[md_df[\"max_abx_w_microbiome\"] == 0.0, :]\n",
        "hosts_noabx = noabx.host_id.unique()\n",
        "print(f\"Number of unique hosts w/o abx: {noabx.host_id.nunique()}\")\n",
        "\n",
        "abx = md_df.loc[md_df[\"max_abx_w_microbiome\"] > 0.0, :]\n",
        "hosts_abx = abx.host_id.unique()\n",
        "print(f\"Number of unique hosts with abx: {abx.host_id.nunique()}\")\n",
        "\n",
        "# remove hosts with only abx after sample collection from abx cohort:\n",
        "abx_df = abx_df[abx_df.host_id.isin(hosts_abx)].copy()\n",
        "print(\n",
        "    f\"Number of unique hosts with abx and microbial samples after: {abx_df.host_id.nunique()}\"\n",
        ")"
      ]
    },
    {
      "cell_type": "markdown",
      "metadata": {},
      "source": [
        "## Diversity in all noabx infants over time"
      ]
    },
    {
      "cell_type": "code",
      "execution_count": null,
      "metadata": {},
      "outputs": [],
      "source": [
        "x_axis = \"age_months_rounded1\"\n",
        "boxplot_all_div_metrics_over_time(noabx, div_metrics, x_axis, path_to_output)"
      ]
    },
    {
      "cell_type": "markdown",
      "metadata": {},
      "source": [
        "## Diversity in all noabx infants split by covariates"
      ]
    },
    {
      "cell_type": "code",
      "execution_count": null,
      "metadata": {},
      "outputs": [],
      "source": [
        "metric = \"div_alpha_faith_pd\"\n",
        "group_by_values = [\n",
        "    \"delivery_mode\",\n",
        "    \"diet_milk_s\",\n",
        "    \"diet_weaning\",\n",
        "    \"geo_location_name\",\n",
        "    \"sex\",\n",
        "]\n",
        "lineplot_all_div_metrics_over_time(\n",
        "    noabx, metric, x_axis, group_by_values, path_to_output\n",
        ")"
      ]
    },
    {
      "cell_type": "markdown",
      "metadata": {},
      "source": [
        "## Abx/ no abx effect on alpha diversity over time"
      ]
    },
    {
      "cell_type": "code",
      "execution_count": null,
      "metadata": {},
      "outputs": [],
      "source": [
        "# add simple abx no and yes feature\n",
        "md_df[\"abx\"] = \"no\"\n",
        "md_df.loc[md_df[\"abx_max_count_ever\"] > 0.0, \"abx\"] = \"yes\"\n",
        "\n",
        "group_by_values = [\"abx\", \"abx\", \"abx\", \"abx\"]  # just for lazy scaling purposes\n",
        "lineplot_all_div_metrics_over_time(\n",
        "    md_df, metric, x_axis, group_by_values, path_to_output\n",
        ")"
      ]
    },
    {
      "cell_type": "code",
      "execution_count": null,
      "metadata": {},
      "outputs": [],
      "source": [
        "# get density of abx events over time\n",
        "fig, ax = plt.subplots(1, 1, figsize=(7, 3), dpi=400)\n",
        "palette = sns.color_palette(\"husl\", 2)\n",
        "abx_df[\"abx_start_age_months_rounded1\"] = abx_df[\"abx_start_age_months\"].round()\n",
        "abx_df[\"abx_start_age_months_rounded1\"].hist(bins=range(0, 39), ax=ax, color=palette[1])\n",
        "max_age = 39.0\n",
        "ax.xaxis.set_major_locator(FixedLocator(np.arange(0, max_age, 1.0)))\n",
        "ax.set_xticklabels(np.arange(0, max_age, 1.0), rotation=90)\n",
        "\n",
        "ax.set_xlabel(\"age_months_rounded1\")\n",
        "ax.set_ylabel(\"Number of abx courses\")\n",
        "ax.set_title(\"Number of abx courses in cohort\")\n",
        "ax.set_xlim(-0.5, 38.5)\n",
        "ax.grid(False)\n",
        "\n",
        "plt.tight_layout()\n",
        "plt.show()"
      ]
    },
    {
      "cell_type": "markdown",
      "metadata": {},
      "source": [
        "# Number of abx courses per host"
      ]
    },
    {
      "cell_type": "code",
      "execution_count": null,
      "metadata": {},
      "outputs": [],
      "source": [
        "# select only unique samples with host_id and \"abx_max_count_ever\"\n",
        "fig, ax = plt.subplots(1, 1, figsize=(9, 3), dpi=400)\n",
        "\n",
        "md_df_unique = md_df.drop_duplicates([\"host_id\", \"max_abx_w_microbiome\"]).copy()\n",
        "md_df_unique.groupby(\"max_abx_w_microbiome\")[\"host_id\"].count().plot(kind=\"bar\", ax=ax)\n",
        "\n",
        "ax.set_xticklabels(ax.get_xticklabels(), rotation=0)\n",
        "ax.set_xticklabels(ax.get_xticks().astype(int))\n",
        "ax.set_ylabel(\"Number of hosts\")\n",
        "ax.set_xlabel(\"Total number of abx courses (with matching samples)\")\n",
        "ax.set_title(\"Total number of abx courses per host\")\n",
        "plt.tight_layout()\n",
        "filename = os.path.join(path_to_output, \"nb_abx_courses_per_host.png\")\n",
        "plt.savefig(filename, dpi=400, bbox_inches=\"tight\")\n",
        "plt.show()"
      ]
    },
    {
      "cell_type": "markdown",
      "metadata": {},
      "source": [
        "## Number of abx courses per sample"
      ]
    },
    {
      "cell_type": "code",
      "execution_count": null,
      "metadata": {},
      "outputs": [],
      "source": [
        "print(md_df.shape)\n",
        "md_df_s = md_df[md_df[\"abx_any_last_t_dmonths\"] <= 1.0].copy()\n",
        "print(md_df_s.shape)\n",
        "\n",
        "cols_to_keep = [\"host_id\", \"abx_any_cumcount\"]\n",
        "md_df_s = md_df_s[cols_to_keep].copy()\n",
        "md_df_s.head()"
      ]
    },
    {
      "cell_type": "code",
      "execution_count": null,
      "metadata": {},
      "outputs": [],
      "source": [
        "fig, ax = plt.subplots(1, 1, figsize=(9, 3), dpi=400)\n",
        "md_df_sp = md_df_s.reset_index()\n",
        "md_df_sp.groupby(\"abx_any_cumcount\")[\"index\"].count().plot(kind=\"bar\", ax=ax)\n",
        "\n",
        "# ax.set_xticklabels(ax.get_xticklabels(), rotation=0)\n",
        "# ax.set_xticklabels(ax.get_xticks().astype(int))\n",
        "ax.set_ylabel(\"Number of samples\")\n",
        "ax.set_xlabel(\"Cum count of abx courses (with matching samples 1 month after)\")\n",
        "ax.set_title(\"Cum count of abx courses per 1-month sample\")\n",
        "plt.tight_layout()\n",
        "# filename = os.path.join(path_to_output, \"nb_abx_courses_per_host.png\")\n",
        "# plt.savefig(filename, dpi=400, bbox_inches=\"tight\")\n",
        "plt.show()"
      ]
    },
    {
      "cell_type": "markdown",
      "metadata": {},
      "source": [
        "## Effect of n-th abx exposure on alpha diversity"
      ]
    },
    {
      "cell_type": "markdown",
      "metadata": {},
      "source": [
        "### Unmatched 1st abx - few immediate effect observable (confounded by many covariates)"
      ]
    },
    {
      "cell_type": "code",
      "execution_count": null,
      "metadata": {},
      "outputs": [],
      "source": [
        "# without proper matching little effect from abx visible - probably confounded\n",
        "# by age, diet, delivery mode\n",
        "n = 1\n",
        "# only select samples that are around n-th abx exposure\n",
        "abx_nth_samples = select_samples_around_nth_abx_exposure(md_df, abx_df, n=n)\n",
        "\n",
        "fig_unm, dic_kw_unm = plot_diversity_difference(\n",
        "    abx_nth_samples, n, path_to_output, matched=False\n",
        ")"
      ]
    },
    {
      "cell_type": "markdown",
      "metadata": {},
      "source": [
        "### Matched: 1st to 3rd abx exposure effect on Faith PD \n",
        "\n",
        "(similar effects can be observed for different alpha div metrics: Faith PD and Observed Features most similar and Shannon slightly less pronounced )"
      ]
    },
    {
      "cell_type": "code",
      "execution_count": null,
      "metadata": {},
      "outputs": [],
      "source": [
        "matching_vars = [\n",
        "    \"age_months_rounded1\",\n",
        "    \"delivery_mode\",\n",
        "    \"diet_milk\",\n",
        "    # \"geo_location_name\",\n",
        "]"
      ]
    },
    {
      "cell_type": "markdown",
      "metadata": {},
      "source": [
        "Caption draft:\n",
        "\n",
        "The upper plot shows the difference in alpha diversity between samples that received antibiotics and ones that did not matched by age, delivery mode and diet milk. The red vertical line depicts the timepoint when the 1st (or 2nd) abx exposure was received. The yellow and green stars display significant differences (* p < 0.1, ** p < 0.05) in comparing the distribution of the microbiome before antibiotic exposure (x-axis = -1.0) to after (yellow is a Mann-Whitney U-test, green a Wilcoxon test). The lower plot displays the number of samples available for each time bin."
      ]
    },
    {
      "cell_type": "code",
      "execution_count": null,
      "metadata": {},
      "outputs": [],
      "source": [
        "for i in range(1, 4):\n",
        "    fig_t, dic_kw_t = calculate_nth_abx_effect_on_diversity(\n",
        "        md_df,\n",
        "        abx_df,\n",
        "        i,\n",
        "        path_to_output,\n",
        "        cov_groups=matching_vars,\n",
        "        div_metrics=[\"div_alpha_faith_pd\"],\n",
        "        test_zero_mean=False,\n",
        "    )"
      ]
    },
    {
      "cell_type": "markdown",
      "metadata": {},
      "source": [
        "### Matched: 1st abx exposure effect on all diversity metrics\n"
      ]
    },
    {
      "cell_type": "code",
      "execution_count": null,
      "metadata": {},
      "outputs": [],
      "source": [
        "fig_1st, dic_kw_1st = calculate_nth_abx_effect_on_diversity(\n",
        "    md_df,\n",
        "    abx_df,\n",
        "    1,\n",
        "    path_to_output,\n",
        "    cov_groups=matching_vars,\n",
        ")"
      ]
    },
    {
      "cell_type": "markdown",
      "metadata": {},
      "source": [
        "### Matched 2nd abx effect on all diversity metrics"
      ]
    },
    {
      "cell_type": "code",
      "execution_count": null,
      "metadata": {},
      "outputs": [],
      "source": [
        "fig_2nd, dic_kw_2nd = calculate_nth_abx_effect_on_diversity(\n",
        "    md_df,\n",
        "    abx_df,\n",
        "    2,\n",
        "    path_to_output,\n",
        "    cov_groups=matching_vars,\n",
        ")"
      ]
    },
    {
      "cell_type": "markdown",
      "metadata": {},
      "source": [
        "### Matched 3rd abx effect on all diversity metrics"
      ]
    },
    {
      "cell_type": "code",
      "execution_count": null,
      "metadata": {},
      "outputs": [],
      "source": [
        "fig_3rd, dic_kw_3rd = calculate_nth_abx_effect_on_diversity(\n",
        "    md_df,\n",
        "    abx_df,\n",
        "    3,\n",
        "    path_to_output,\n",
        "    cov_groups=matching_vars,\n",
        ")"
      ]
    },
    {
      "cell_type": "markdown",
      "metadata": {},
      "source": [
        "Conclusion:\n",
        "* By plotting simply diversity after abx exposure across all age ranges and other covariates (milk + delivery mode) the effects of abx exposure are less distinct after matching by covariates.\n",
        "\n",
        "\n",
        "* [Cross-sectional study by Li et al. 2023](https://www.nature.com/articles/s41467-023-44289-6) showed that abx exposure had an effect on infant gut microbiome only up to 1 month after exposure (beta-diversity, cross-sectional, no diet and delivery mode matching, no counts on abx exposure). We show above that alpha diversity of microbiome is significantly changed for about a month after 1st exposure and for up to 3 months after 2nd abx exposure. \n",
        "\n",
        "Recommendation from insights for modelling:\n",
        "* Recommendation to use **Faith PD** as alpha metrics in modelling (since all alpha diversity metrics capture similar trends and this one also includes phylogenetic information).\n",
        "* Recommendation to use **path dependent model**: This analysis aimed to see how long the antibiotics effect lasts on the microbiome, specifically the summary metric alpha diversity in our particular dataset (see figures below). The analysis shows that at least for the 1st and 2nd antibiotics exposure the anomaly effect lasts for more than one timepoint. So there seem to be non-Markovian dynamics in the anomaly."
      ]
    }
  ],
  "metadata": {
    "kernelspec": {
      "display_name": "infant-meta-23-7-new",
      "language": "python",
      "name": "python3"
    },
    "language_info": {
      "codemirror_mode": {
        "name": "ipython",
        "version": 3
      },
      "file_extension": ".py",
      "mimetype": "text/x-python",
      "name": "python",
      "nbconvert_exporter": "python",
      "pygments_lexer": "ipython3",
      "version": "3.9.19"
    }
  },
  "nbformat": 4,
  "nbformat_minor": 2
}
