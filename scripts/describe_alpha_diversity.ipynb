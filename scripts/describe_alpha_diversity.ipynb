{
  "cells": [
    {
      "cell_type": "markdown",
      "metadata": {},
      "source": [
        "# Explore alpha diversity in dataset\n"
      ]
    },
    {
      "cell_type": "markdown",
      "metadata": {},
      "source": [
        "## Setup"
      ]
    },
    {
      "cell_type": "code",
      "execution_count": null,
      "metadata": {},
      "outputs": [],
      "source": [
        "import os\n",
        "\n",
        "import matplotlib.pyplot as plt\n",
        "import numpy as np\n",
        "import pandas as pd\n",
        "import seaborn as sns\n",
        "from src.viz_alpha_div import (\n",
        "    assign_columns_for_plots,\n",
        "    lineplot_all_div_metrics_over_time,\n",
        "    read_and_prep_abx_exposure_data,\n",
        ")\n",
        "\n",
        "%load_ext autoreload\n",
        "%autoreload 2\n",
        "%matplotlib inline\n",
        "\n",
        "plt.rcParams.update({\"font.family\": \"DejaVu Sans\"})\n",
        "plt.style.use(\"tableau-colorblind10\")"
      ]
    },
    {
      "cell_type": "code",
      "execution_count": null,
      "metadata": {},
      "outputs": [],
      "source": [
        "# USER DEFINED variables\n",
        "tag = \"20240806\"\n",
        "tag_output = \"entero_genus\"\n",
        "path_to_data = \"../data/final/\"\n",
        "\n",
        "# END USER DEFINED variables"
      ]
    },
    {
      "cell_type": "code",
      "execution_count": null,
      "metadata": {},
      "outputs": [],
      "source": [
        "# Setting all paths needed\n",
        "path_to_ft = os.path.join(path_to_data, f\"ft_vat19_anomaly_v{tag}_{tag_output}.tsv\")\n",
        "path_to_abx = os.path.join(path_to_data, f\"ts_vat19_abx_v{tag}.tsv\")\n",
        "\n",
        "# location to save all outputs of this notebook\n",
        "path_to_output = os.path.join(\"../results\", f\"desc_{tag}_{tag_output}\")\n",
        "if not os.path.isdir(path_to_output):\n",
        "    os.makedirs(path_to_output)"
      ]
    },
    {
      "cell_type": "markdown",
      "metadata": {},
      "source": [
        "## Read datasets"
      ]
    },
    {
      "cell_type": "code",
      "execution_count": null,
      "metadata": {},
      "outputs": [],
      "source": [
        "abx_df = read_and_prep_abx_exposure_data(path_to_abx)\n",
        "md_df = pd.read_csv(path_to_ft, sep=\"\\t\")\n",
        "md_df = assign_columns_for_plots(md_df)\n",
        "\n",
        "# add simple abx no and yes feature\n",
        "md_df[\"abx\"] = \"no\"\n",
        "md_df.loc[md_df[\"max_abx_w_microbiome\"] > 0.0, \"abx\"] = \"yes\""
      ]
    },
    {
      "cell_type": "code",
      "execution_count": null,
      "metadata": {},
      "outputs": [],
      "source": [
        "noabx = md_df.loc[md_df[\"max_abx_w_microbiome\"] == 0.0, :]\n",
        "hosts_noabx = noabx.host_id.unique()\n",
        "print(f\"Number of unique hosts w/o abx: {noabx.host_id.nunique()}\")\n",
        "\n",
        "abx = md_df.loc[md_df[\"max_abx_w_microbiome\"] > 0.0, :]\n",
        "hosts_abx = abx.host_id.unique()\n",
        "print(f\"Number of unique hosts with abx: {abx.host_id.nunique()}\")\n",
        "\n",
        "# remove hosts with only abx after sample collection from abx cohort:\n",
        "abx_df = abx_df[abx_df.host_id.isin(hosts_abx)].copy()\n",
        "print(\n",
        "    f\"Number of unique hosts with abx and microbial samples after: {abx_df.host_id.nunique()}\"\n",
        ")"
      ]
    },
    {
      "cell_type": "markdown",
      "metadata": {},
      "source": [
        "## Diversity in all noabx infants over time"
      ]
    },
    {
      "cell_type": "code",
      "execution_count": null,
      "metadata": {},
      "outputs": [],
      "source": [
        "# boxplot of one diversity metric over age\n",
        "metric = \"div_alpha_faith_pd\"\n",
        "x_axis = \"age_months_rounded1\"\n",
        "title = f\"Alpha diversity over age in infants w/o abx exposure\"\n",
        "fig, axs = plt.subplots(1, 1, figsize=(12, 5), dpi=400)\n",
        "\n",
        "noabx[x_axis] = noabx[x_axis].astype(int).copy()\n",
        "sns.boxplot(x=x_axis, y=metric, data=noabx, ax=axs, color=\"lightblue\")\n",
        "\n",
        "axs.set_xticklabels(axs.get_xticklabels(), rotation=0, ha=\"center\", fontsize=8)\n",
        "# axs.xaxis.set_major_locator(MaxNLocator(integer=True))\n",
        "metric_name = metric.replace(\"div_alpha_\", \"\")\n",
        "axs.set_xlabel(\"Age [months]\")\n",
        "axs.set_ylabel(\"Faith PD\")\n",
        "axs.set_title(title)\n",
        "plt.tight_layout()\n",
        "\n",
        "filename = os.path.join(path_to_output, \"alpha_noabx_boxplot_over_age.pdf\")\n",
        "print(filename)\n",
        "plt.savefig(filename, dpi=400, bbox_inches=\"tight\", format=\"pdf\")\n",
        "plt.show()"
      ]
    },
    {
      "cell_type": "markdown",
      "metadata": {},
      "source": [
        "## Diversity in all infants split by covariates"
      ]
    },
    {
      "cell_type": "code",
      "execution_count": null,
      "metadata": {},
      "outputs": [],
      "source": [
        "# add simple abx no and yes feature\n",
        "md_df[\"abx\"] = \"no\"\n",
        "md_df.loc[md_df[\"abx_max_count_ever\"] > 0.0, \"abx\"] = \"yes\""
      ]
    },
    {
      "cell_type": "code",
      "execution_count": null,
      "metadata": {},
      "outputs": [],
      "source": [
        "metric = \"div_alpha_faith_pd\"\n",
        "group_by_values = [\n",
        "    \"delivery_mode\",\n",
        "    \"diet_milk\",\n",
        "    \"diet_weaning\",\n",
        "    \"abx\",\n",
        "    # \"geo_location_name\",\n",
        "    # \"sex\",\n",
        "]\n",
        "lineplot_all_div_metrics_over_time(\n",
        "    md_df, metric, x_axis, group_by_values, path_to_output\n",
        ")"
      ]
    },
    {
      "cell_type": "markdown",
      "metadata": {},
      "source": [
        "# Number of abx courses in cohort"
      ]
    },
    {
      "cell_type": "code",
      "execution_count": null,
      "metadata": {},
      "outputs": [],
      "source": [
        "fig, ax = plt.subplots(1, 1, figsize=(5, 3), dpi=400)\n",
        "\n",
        "min_age = 0\n",
        "abx_df[\"abx_start_age_months_rounded1\"] = abx_df[\"abx_start_age_months\"].round()\n",
        "max_age = int(\n",
        "    max(\n",
        "        md_df[\"age_months_rounded1\"].max(),\n",
        "        abx_df[\"abx_start_age_months_rounded1\"].max(),\n",
        "    )\n",
        ")\n",
        "\n",
        "df_grouped = abx_df.groupby(\"abx_start_age_months_rounded1\").size()\n",
        "all_ages = range(min_age, max_age + 1)\n",
        "df_grouped = df_grouped.reindex(all_ages, fill_value=0)\n",
        "\n",
        "df_grouped.plot.bar(color=\"darkred\", ax=ax)\n",
        "ax.set_xlim(min_age - 0.5, max_age + 0.5)\n",
        "ax.set_xticks(range(min_age, max_age + 1, 10))\n",
        "ax.set_xticklabels(ax.get_xticklabels(), rotation=0, ha=\"center\", fontsize=8)\n",
        "ax.set_xlabel(\"Age [months]\")\n",
        "ax.set_ylabel(\"# abx courses\")\n",
        "fig.suptitle(\"Number of abx courses over time\", fontsize=12, y=0.95)\n",
        "plt.tight_layout()\n",
        "\n",
        "filename = os.path.join(path_to_output, \"nb_abx_courses_over_time.pdf\")\n",
        "print(filename)\n",
        "plt.savefig(filename, dpi=400, bbox_inches=\"tight\", format=\"pdf\")\n",
        "plt.show()"
      ]
    },
    {
      "cell_type": "markdown",
      "metadata": {},
      "source": [
        "# Number of abx courses per host"
      ]
    },
    {
      "cell_type": "code",
      "execution_count": null,
      "metadata": {},
      "outputs": [],
      "source": [
        "# select only unique samples with host_id and \"abx_max_count_ever\"\n",
        "md_df_unique = md_df.drop_duplicates([\"host_id\", \"max_abx_w_microbiome\"]).copy()"
      ]
    },
    {
      "cell_type": "code",
      "execution_count": null,
      "metadata": {},
      "outputs": [],
      "source": [
        "# fraction of hosts with at most 1-3 abx courses in observed time period\n",
        "hosts_w_abx = md_df_unique[md_df_unique[\"max_abx_w_microbiome\"] > 0.0].host_id.nunique()\n",
        "hosts_w_abx_le3 = md_df_unique[\n",
        "    np.logical_and(\n",
        "        md_df_unique[\"max_abx_w_microbiome\"] >= 1.0,\n",
        "        md_df_unique[\"max_abx_w_microbiome\"] <= 3.0,\n",
        "    )\n",
        "].host_id.nunique()\n",
        "frac_le3 = 100 * (hosts_w_abx_le3 / hosts_w_abx)\n",
        "\n",
        "print(f\"Fraction of hosts with 1-3 abx courses: {frac_le3:.1f} %\")"
      ]
    },
    {
      "cell_type": "code",
      "execution_count": null,
      "metadata": {},
      "outputs": [],
      "source": [
        "# plot\n",
        "fig, ax = plt.subplots(1, 1, figsize=(5, 3), dpi=400)\n",
        "md_df_unique.groupby(\"max_abx_w_microbiome\")[\"host_id\"].count().plot(\n",
        "    kind=\"bar\", ax=ax, color=\"darkred\"\n",
        ")\n",
        "\n",
        "# Annotate each bar with its value:\n",
        "for container in ax.containers:\n",
        "    ax.bar_label(container, label_type=\"edge\", fontsize=6)\n",
        "\n",
        "ax.set_ylim(0, 150)\n",
        "ax.set_xticklabels(ax.get_xticklabels(), rotation=0, ha=\"center\", fontsize=8)\n",
        "ax.set_xticklabels(ax.get_xticks().astype(int))\n",
        "ax.set_ylabel(\"# hosts\")\n",
        "ax.set_xlabel(\"Total number of abx courses\")\n",
        "ax.set_title(\"Number of abx courses per host\")\n",
        "plt.tight_layout()\n",
        "filename = os.path.join(path_to_output, \"nb_abx_courses_per_host.pdf\")\n",
        "print(filename)\n",
        "plt.savefig(filename, dpi=400, bbox_inches=\"tight\", format=\"pdf\")\n",
        "plt.show()"
      ]
    },
    {
      "cell_type": "markdown",
      "metadata": {},
      "source": [
        "## Number of abx courses per sample"
      ]
    },
    {
      "cell_type": "code",
      "execution_count": null,
      "metadata": {},
      "outputs": [],
      "source": [
        "print(md_df.shape)\n",
        "md_df_s = md_df[md_df[\"abx_any_last_t_dmonths\"] <= 1.0].copy()\n",
        "print(md_df_s.shape)\n",
        "\n",
        "cols_to_keep = [\"host_id\", \"abx_any_cumcount\"]\n",
        "md_df_s = md_df_s[cols_to_keep].copy()\n",
        "md_df_s.head()"
      ]
    },
    {
      "cell_type": "code",
      "execution_count": null,
      "metadata": {},
      "outputs": [],
      "source": [
        "fig, ax = plt.subplots(1, 1, figsize=(9, 3), dpi=400)\n",
        "md_df_sp = md_df_s.reset_index()\n",
        "md_df_sp.groupby(\"abx_any_cumcount\")[\"index\"].count().plot(kind=\"bar\", ax=ax)\n",
        "\n",
        "# ax.set_xticklabels(ax.get_xticklabels(), rotation=0)\n",
        "# ax.set_xticklabels(ax.get_xticks().astype(int))\n",
        "ax.set_ylabel(\"Number of samples\")\n",
        "ax.set_xlabel(\"Cum count of abx courses (with matching samples 1 month after)\")\n",
        "ax.set_title(\"Cum count of abx courses per 1-month sample\")\n",
        "plt.tight_layout()\n",
        "# filename = os.path.join(path_to_output, \"nb_abx_courses_per_host.png\")\n",
        "# plt.savefig(filename, dpi=400, bbox_inches=\"tight\")\n",
        "plt.show()"
      ]
    }
  ],
  "metadata": {
    "kernelspec": {
      "display_name": "preprocess_microbiome",
      "language": "python",
      "name": "python3"
    },
    "language_info": {
      "codemirror_mode": {
        "name": "ipython",
        "version": 3
      },
      "file_extension": ".py",
      "mimetype": "text/x-python",
      "name": "python",
      "nbconvert_exporter": "python",
      "pygments_lexer": "ipython3",
      "version": "3.9.19"
    }
  },
  "nbformat": 4,
  "nbformat_minor": 2
}
