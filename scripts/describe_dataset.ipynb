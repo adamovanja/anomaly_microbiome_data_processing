{
  "cells": [
    {
      "cell_type": "markdown",
      "metadata": {},
      "source": [
        "# Description of feature table"
      ]
    },
    {
      "cell_type": "markdown",
      "metadata": {},
      "source": [
        "## Setup"
      ]
    },
    {
      "cell_type": "code",
      "execution_count": null,
      "metadata": {},
      "outputs": [],
      "source": [
        "import os\n",
        "import matplotlib.pyplot as plt\n",
        "import pandas as pd\n",
        "import seaborn as sns\n",
        "\n",
        "from src.utils import extract_color\n",
        "from src.display_meta import display_diet_information\n",
        "\n",
        "%load_ext autoreload\n",
        "%autoreload 2\n",
        "%matplotlib inline\n",
        "\n",
        "plt.rcParams.update({\"font.family\": \"DejaVu Sans\"})\n",
        "plt.style.use(\"tableau-colorblind10\")"
      ]
    },
    {
      "cell_type": "code",
      "execution_count": null,
      "metadata": {},
      "outputs": [],
      "source": [
        "# USER DEFINED variables\n",
        "tag = \"20240806\"\n",
        "tag_output = \"entero_family\"\n",
        "path_to_data = \"../data/final/\"\n",
        "\n",
        "# threshold for coloring microbiome samples after abx exposure\n",
        "th_sample_after_abx_months = 1\n",
        "# END USER DEFINED variables"
      ]
    },
    {
      "cell_type": "code",
      "execution_count": null,
      "metadata": {},
      "outputs": [],
      "source": [
        "# read processed feature table\n",
        "path_to_ft = os.path.join(path_to_data, f\"ft_vat19_anomaly_v{tag}_{tag_output}.tsv\")\n",
        "# read time-series of exact abx exposure data\n",
        "path_to_abx = os.path.join(path_to_data, f\"ts_vat19_abx_v{tag}.tsv\")\n",
        "\n",
        "# location to save all outputs of this notebook\n",
        "path_to_output = os.path.join(\"../results\", f\"desc_{tag}_{tag_output}\")\n",
        "if not os.path.isdir(path_to_output):\n",
        "    os.makedirs(path_to_output)"
      ]
    },
    {
      "cell_type": "markdown",
      "metadata": {},
      "source": [
        "## Read datasets\n"
      ]
    },
    {
      "cell_type": "code",
      "execution_count": null,
      "metadata": {},
      "outputs": [],
      "source": [
        "# read and prep abx exposure data\n",
        "abx_df = pd.read_csv(path_to_abx, sep=\"\\t\")\n",
        "ls_abx_cols = [\"host_id\", \"abx_start_age_months\"]\n",
        "abx_df = abx_df[ls_abx_cols].sort_values(ls_abx_cols).drop_duplicates()"
      ]
    },
    {
      "cell_type": "code",
      "execution_count": null,
      "metadata": {},
      "outputs": [],
      "source": [
        "# read and prep metadata\n",
        "md_df = pd.read_csv(path_to_ft, sep=\"\\t\", index_col=0)\n",
        "\n",
        "# columns for below plots\n",
        "md_df = md_df.assign(\n",
        "    sample_lt_xm_after_abx=lambda df: df[\"abx_any_last_t_dmonths\"]\n",
        "    <= th_sample_after_abx_months,\n",
        "    max_abx_w_microbiome=lambda df: df.groupby(\"host_id\")[\"abx_any_cumcount\"].transform(\n",
        "        \"max\"\n",
        "    ),\n",
        ")\n",
        "md_df.sort_values(\n",
        "    [\n",
        "        \"abx_max_count_ever\",\n",
        "        \"max_abx_w_microbiome\",\n",
        "        \"host_id\",\n",
        "        \"age_months_rounded05\",\n",
        "    ],\n",
        "    ascending=[True, True, True, True],\n",
        "    inplace=True,\n",
        ")"
      ]
    },
    {
      "cell_type": "code",
      "execution_count": null,
      "metadata": {},
      "outputs": [],
      "source": [
        "# sort abx_df in same order and remove samples that don't exist in md_df\n",
        "abx_events = pd.DataFrame()\n",
        "abx_events[\"host_id\"] = md_df[\"host_id\"].unique()\n",
        "abx_events = pd.merge(abx_events, abx_df, on=\"host_id\", how=\"left\")\n",
        "del abx_df\n",
        "assert abx_events.host_id.unique().tolist() == md_df.host_id.unique().tolist()"
      ]
    },
    {
      "cell_type": "code",
      "execution_count": null,
      "metadata": {},
      "outputs": [],
      "source": [
        "def filter_both_dfs(md_df, abx_events, condition):\n",
        "    md_df_filtered = md_df.groupby(\"host_id\").filter(condition).copy()\n",
        "    abx_events_filtered = abx_events[\n",
        "        abx_events[\"host_id\"].isin(md_df_filtered.host_id.unique())\n",
        "    ].copy()\n",
        "    return md_df_filtered, abx_events_filtered\n",
        "\n",
        "\n",
        "# separate abx and no abx\n",
        "md_df_noabx = md_df[md_df[\"max_abx_w_microbiome\"] == 0].copy()\n",
        "abx_events_noabx = abx_events[\n",
        "    abx_events[\"host_id\"].isin(md_df_noabx.host_id.unique())\n",
        "].copy()\n",
        "\n",
        "md_df_abx = md_df[md_df[\"max_abx_w_microbiome\"] > 0].copy()\n",
        "assert md_df_noabx.shape[0] + md_df_abx.shape[0] == md_df.shape[0]\n",
        "\n",
        "\n",
        "# distinguish between invisible and visible abx with this threshold\n",
        "invisible_condition = lambda x: all(~x[\"sample_lt_xm_after_abx\"])\n",
        "md_df_abx_invisible, abx_events_abx_invisible = filter_both_dfs(\n",
        "    md_df_abx, abx_events, invisible_condition\n",
        ")\n",
        "\n",
        "visible_condition = lambda x: any(x[\"sample_lt_xm_after_abx\"])\n",
        "md_df_abx_visible, abx_events_abx_visible = filter_both_dfs(\n",
        "    md_df_abx, abx_events, visible_condition\n",
        ")\n",
        "\n",
        "assert md_df_abx_invisible.shape[0] + md_df_abx_visible.shape[0] == md_df_abx.shape[0]"
      ]
    },
    {
      "cell_type": "markdown",
      "metadata": {},
      "source": [
        "## Visualize overview of samples and abx events"
      ]
    },
    {
      "cell_type": "code",
      "execution_count": null,
      "metadata": {},
      "outputs": [],
      "source": [
        "# fraction of \"visible\" abx samples from all available microbiome samples\n",
        "all_samples = md_df.shape[0]\n",
        "\n",
        "frac_abx = 100 * (md_df[\"sample_lt_xm_after_abx\"] == True).sum() / all_samples\n",
        "\n",
        "print(f\"Fraction of potentially abx influenced samples: {frac_abx:.2f} %\")"
      ]
    },
    {
      "cell_type": "code",
      "execution_count": null,
      "metadata": {},
      "outputs": [],
      "source": [
        "hide_ylabel_thickmarks = True  # hiding thickmarks of y-axis for slides\n",
        "if hide_ylabel_thickmarks:\n",
        "    plt.rcParams.update({\"font.size\": 6.5})\n",
        "    fig, axs = plt.subplots(1, 3, figsize=(8, 6), sharex=True, dpi=400)\n",
        "    markersize = 8\n",
        "else:\n",
        "    plt.rcParams.update({\"font.size\": 6})\n",
        "    fig, axs = plt.subplots(1, 3, figsize=(9, 10), sharex=True, dpi=400)\n",
        "    markersize = 10\n",
        "\n",
        "dic_to_plot = {\n",
        "    \"w/o\": [md_df_noabx, abx_events_noabx],\n",
        "    'with \"invisible\"': [md_df_abx_invisible, abx_events_abx_invisible],\n",
        "    \"with visible\": [md_df_abx_visible, abx_events_abx_visible],\n",
        "}\n",
        "i = 0\n",
        "\n",
        "for title, df in dic_to_plot.items():\n",
        "    # samples\n",
        "    sns.scatterplot(\n",
        "        x=\"age_months_rounded05\",\n",
        "        y=\"host_id\",\n",
        "        hue=\"sample_lt_xm_after_abx\",\n",
        "        data=df[0],\n",
        "        ax=axs[i],\n",
        "        s=markersize,\n",
        "    )\n",
        "    # abx events\n",
        "    sns.scatterplot(\n",
        "        x=\"abx_start_age_months\",\n",
        "        y=\"host_id\",\n",
        "        data=df[1],\n",
        "        ax=axs[i],\n",
        "        s=markersize * 1.5,\n",
        "        marker=\"x\",\n",
        "        color=\"darkred\",\n",
        "        label=\"abx event\",\n",
        "    )\n",
        "\n",
        "    axs[i].set_title(f\"Hosts {title} abx exposure ({df[0].host_id.nunique()})\")\n",
        "    axs[i].set_xlabel(\"Age [months]\")\n",
        "    axs[i].set_ylabel(\"Host ID\")\n",
        "    axs[i].margins(y=0.005)\n",
        "    if i != 0:\n",
        "        axs[i].set_ylabel(\"\")\n",
        "    if i != 2:\n",
        "        axs[i].get_legend().remove()\n",
        "    if hide_ylabel_thickmarks:\n",
        "        axs[i].set_yticklabels([])\n",
        "    i += 1\n",
        "\n",
        "axs[2].legend(\n",
        "    loc=\"upper right\",\n",
        "    bbox_to_anchor=(1.60, 1),\n",
        "    title=f\" sample <={th_sample_after_abx_months}m after abx\",\n",
        ")\n",
        "plt.suptitle(\"Distribution of microbial samples over time\", fontsize=10, y=1.0)\n",
        "plt.tight_layout()\n",
        "filename = os.path.join(\n",
        "    path_to_output,\n",
        "    f\"overall_distribution_samples_t{hide_ylabel_thickmarks}.png\",\n",
        ")\n",
        "plt.savefig(filename, dpi=400, bbox_inches=\"tight\")\n",
        "plt.show()"
      ]
    },
    {
      "cell_type": "markdown",
      "metadata": {},
      "source": [
        "A cross-sectional only publication found that abx effect was only detectable until 30 days after exposure in infants [source](https://www.nature.com/articles/s41467-023-44289-6). So threshold <= 1 month seems most promising (but we need to keep in mind that our study is longitudinal - and might reveal more detailed dynamics).\n",
        "\n",
        "Unique host counts for different thresholds:\n",
        "\n",
        "| <= `x` m after abx | # no abx | # invisible abx | # visible abx | # detectable samples [1] |\n",
        "|--------------------|----------|-----------------|---------------|--------------------------|\n",
        "| 1                  | 140      | 56              | 85            | 169                      |\n",
        "| 2                  | \"        | 34              | 107           |                          |\n",
        "| 3                  | \"        | 26              | 115           |                          |\n",
        "| 4                  | \"        | 21              | 120           |                          |\n",
        "| 5                  | \"        | 19              | 122           |                          |\n",
        "| 6                  | \"        | 17              | 124           |                          |\n",
        "| 9                  | \"        | 6               | 135           |                          |\n",
        "| 12                 | \"        | 2               | 139           |                          |\n",
        "\n",
        "[1] Detectable samples are samples where samples were collected <= bellow threshold but not in same month as abx was given:\n",
        "````\n",
        "df[np.logical_and(\n",
        "    df[\"abx_any_last_t_dmonths\"]<= th_sample_after_abx_months,\n",
        "    df[\"abx_any_last_t_dmonths\"]>0\n",
        ")].shape[0]\n",
        "````"
      ]
    },
    {
      "cell_type": "code",
      "execution_count": null,
      "metadata": {},
      "outputs": [],
      "source": [
        "# # number of unique samples that were collected <= 1m after abx exposure but not in same month\n",
        "# for th in [1, 2, 3, 4, 5, 6, 9, 12]:\n",
        "#     print(th)\n",
        "\n",
        "#     print(df[np.logical_and(\n",
        "#         df[\"abx_any_last_t_dmonths\"]<= th,\n",
        "#         df[\"abx_any_last_t_dmonths\"]>0\n",
        "#     )].shape[0])\n",
        "#     print()"
      ]
    },
    {
      "cell_type": "markdown",
      "metadata": {},
      "source": [
        "## Visualize distribution of samples available "
      ]
    },
    {
      "cell_type": "code",
      "execution_count": null,
      "metadata": {},
      "outputs": [],
      "source": [
        "def plot_box_violin(y, color, ax):\n",
        "    violin = sns.violinplot(y=y, inner=None, ax=ax, color=color)\n",
        "\n",
        "    box = sns.boxplot(\n",
        "        y=y,\n",
        "        width=0.1,\n",
        "        boxprops={\"facecolor\": \"white\", \"edgecolor\": \"black\", \"zorder\": 2},\n",
        "        flierprops={\n",
        "            \"marker\": \"o\",\n",
        "            \"markerfacecolor\": \"none\",\n",
        "            \"markeredgecolor\": \"black\",\n",
        "        },\n",
        "        ax=ax,\n",
        "    )"
      ]
    },
    {
      "cell_type": "code",
      "execution_count": null,
      "metadata": {},
      "outputs": [],
      "source": [
        "plt.rcParams.update({\"font.family\": \"DejaVu Sans\", \"font.size\": 8})\n",
        "fig, axs = plt.subplots(1, 2, figsize=(6, 3), sharey=True, dpi=300)\n",
        "\n",
        "dic_to_plot = {\n",
        "    \"w/o abx\": md_df_noabx,\n",
        "    \"w abx\": md_df_abx,\n",
        "    # 'with \"invisible\" abx': md_df_abx_invisible,\n",
        "    # \"with visible abx\": md_df_abx_visible,\n",
        "}\n",
        "i = 0\n",
        "\n",
        "for title, df in dic_to_plot.items():\n",
        "    samples_per_host = df.groupby(\"host_id\")[\"age_days\"].agg(\"count\")\n",
        "    c = extract_color(\"tableau-colorblind10\", 0)\n",
        "    plot_box_violin(samples_per_host, c, axs[i])\n",
        "\n",
        "    axs[i].set_title(title)\n",
        "    axs[i].set_ylabel(\"\")\n",
        "    axs[i].set_ylim(bottom=0)\n",
        "    i += 1\n",
        "axs[0].set_ylabel(\"# samples per host\", fontsize=10)\n",
        "plt.suptitle(\"Number of samples per host\", fontsize=12, y=1.0)\n",
        "plt.tight_layout()\n",
        "filename = os.path.join(path_to_output, \"nb_samples_per_host.png\")\n",
        "plt.savefig(filename, dpi=400, bbox_inches=\"tight\")\n",
        "plt.show()"
      ]
    },
    {
      "cell_type": "markdown",
      "metadata": {},
      "source": [
        "## Visualize first abx exposure"
      ]
    },
    {
      "cell_type": "code",
      "execution_count": null,
      "metadata": {},
      "outputs": [],
      "source": [
        "# how many samples are there in visible abx hosts with sample after 1st infant's abx exposure?\n",
        "ls_cols = [\n",
        "    \"host_id\",\n",
        "    \"age_months_rounded05\",\n",
        "    \"abx_any_cumcount\",\n",
        "    \"sample_lt_xm_after_abx\",\n",
        "    \"abx_any_last_t_dmonths\",\n",
        "]\n",
        "all_abx = md_df_abx.host_id.nunique()\n",
        "\n",
        "# count the number of hosts with a microbial sample after their first abx exposure\n",
        "first_abx_exp_sample = (md_df_abx[\"abx_any_cumcount\"] == 1.0) & (\n",
        "    md_df_abx_visible[\"sample_lt_xm_after_abx\"] == True\n",
        ")\n",
        "num_hosts = md_df_abx.loc[\n",
        "    first_abx_exp_sample,\n",
        "    \"host_id\",\n",
        "].nunique()\n",
        "\n",
        "print(\n",
        "    f\"Of the \\033[1m{all_abx}\\033[0m hosts with abx exposure,\"\n",
        "    f\" \\033[1m{round(100*num_hosts/all_abx,1)} % ({num_hosts}\\033[0m)\"\n",
        "    \" have a sample after their first abx exposure.\"\n",
        ")"
      ]
    },
    {
      "cell_type": "code",
      "execution_count": null,
      "metadata": {},
      "outputs": [],
      "source": [
        "# What's the average age of hosts at first abx exposure? > 12.25 months\n",
        "fig, ax = plt.subplots(figsize=(3, 3), dpi=150)\n",
        "\n",
        "first_abx = (\n",
        "    md_df_abx.loc[first_abx_exp_sample, [\"host_id\", \"age_months_rounded05\"]]\n",
        "    .groupby(\"host_id\")\n",
        "    .first()\n",
        ")\n",
        "print(first_abx.shape)\n",
        "print(f\"Mean age: {first_abx['age_months_rounded05'].mean():.2f} months\")\n",
        "plot_box_violin(first_abx[\"age_months_rounded05\"], c, ax)\n",
        "ax.set_ylabel(\"Age [months]\")\n",
        "ax.set_ylim(bottom=0)\n",
        "ax.set_title(f\"Age at first abx exposure\")\n",
        "plt.show()"
      ]
    },
    {
      "cell_type": "markdown",
      "metadata": {},
      "source": [
        "## Display diet covariate"
      ]
    },
    {
      "cell_type": "code",
      "execution_count": null,
      "metadata": {},
      "outputs": [],
      "source": [
        "display_diet_information(md_df, \"diet_weaning\", \"age_months_rounded1\", \"samples\")"
      ]
    },
    {
      "cell_type": "code",
      "execution_count": null,
      "metadata": {},
      "outputs": [],
      "source": [
        "display_diet_information(md_df, \"diet_milk\", \"age_months_rounded1\", \"samples\")"
      ]
    },
    {
      "cell_type": "markdown",
      "metadata": {},
      "source": [
        "## Check delivery mode and geolocation counts\n"
      ]
    },
    {
      "cell_type": "code",
      "execution_count": null,
      "metadata": {},
      "outputs": [],
      "source": [
        "md_df[[\"host_id\", \"delivery_mode\"]].drop_duplicates().groupby(\"delivery_mode\").count()"
      ]
    },
    {
      "cell_type": "code",
      "execution_count": null,
      "metadata": {},
      "outputs": [],
      "source": [
        "md_df[[\"host_id\", \"geo_location_name\"]].drop_duplicates().groupby(\n",
        "    \"geo_location_name\"\n",
        ").count()"
      ]
    },
    {
      "cell_type": "markdown",
      "metadata": {},
      "source": [
        "## Check duration between samples (all hosts)"
      ]
    },
    {
      "cell_type": "code",
      "execution_count": null,
      "metadata": {},
      "outputs": [],
      "source": [
        "# get number of days between samples of an infant:\n",
        "cols = [\"host_id\", \"age_days\"]\n",
        "df_md_diff = md_df[cols].sort_values(cols)\n",
        "df_md_diff[\"diff_age\"] = df_md_diff[cols].sort_values(cols).groupby([\"host_id\"]).diff()\n",
        "\n",
        "fig, ax = plt.subplots(nrows=1, ncols=1, figsize=(3, 5))\n",
        "c = extract_color(\"tableau-colorblind10\", 0)\n",
        "plot_box_violin(df_md_diff[\"diff_age\"], c, ax)\n",
        "\n",
        "ax.set_ylabel(\"Days between samples per host\", fontsize=12)\n",
        "ax.set_ylim(0)\n",
        "c_thirty = extract_color(\"tableau-colorblind10\", 1)\n",
        "ax.axhline(y=30, color=c_thirty)\n",
        "ax.text(x=-0.48, y=33, s=\"30\", color=c_thirty)\n",
        "plt.show()\n",
        "\n",
        "df_md_diff[\"diff_age\"].describe()"
      ]
    },
    {
      "cell_type": "markdown",
      "metadata": {},
      "source": [
        "## Derive time of initial sample per \"noabx\" host\n",
        "\n",
        "\n",
        "(originally used to define imputation for initial samples of noabx hosts)"
      ]
    },
    {
      "cell_type": "markdown",
      "metadata": {},
      "source": [
        "### Time of initial sample per \"noabx\" host"
      ]
    },
    {
      "cell_type": "code",
      "execution_count": null,
      "metadata": {},
      "outputs": [],
      "source": [
        "first_sample = md_df_noabx[[\"age_days\", \"host_id\"]].groupby(\"host_id\").min()\n",
        "first_sample.describe()"
      ]
    },
    {
      "cell_type": "code",
      "execution_count": null,
      "metadata": {},
      "outputs": [],
      "source": [
        "first_sample.hist(bins=100)\n",
        "plt.axvline(x=42, color=c_thirty)\n",
        "plt.ylabel(\"Number of hosts\")\n",
        "plt.xlabel(\"Age [days]\")\n",
        "plt.title(\"Age of first sample per noabx host\")"
      ]
    },
    {
      "cell_type": "code",
      "execution_count": null,
      "metadata": {},
      "outputs": [],
      "source": [
        "fig, ax = plt.subplots(nrows=1, ncols=1, figsize=(3, 5))\n",
        "c = extract_color(\"tableau-colorblind10\", 0)\n",
        "plot_box_violin(first_sample[\"age_days\"], c, ax)\n",
        "ax.set_ylabel(\"First sample per host [age in days]\", fontsize=12)\n",
        "ax.set_ylim(0)"
      ]
    },
    {
      "cell_type": "markdown",
      "metadata": {},
      "source": [
        "### Noabx hosts that have samples prior or at 42 days \n",
        "\n",
        "(originally used to suggest new t0)"
      ]
    },
    {
      "cell_type": "code",
      "execution_count": null,
      "metadata": {},
      "outputs": [],
      "source": [
        "early_noabx_samples = md_df_noabx.loc[\n",
        "    md_df_noabx[\"age_days\"] <= (35 + 7), [\"host_id\", \"age_days\"]\n",
        "]\n",
        "early_noabx_samples"
      ]
    },
    {
      "cell_type": "code",
      "execution_count": null,
      "metadata": {},
      "outputs": [],
      "source": [
        "# how many unique noabx hosts do we have <= 42 days?\n",
        "init_hosts = md_df_noabx.loc[md_df_noabx[\"age_days\"] <= (35 + 7), \"host_id\"].unique()\n",
        "len(init_hosts)"
      ]
    },
    {
      "cell_type": "code",
      "execution_count": null,
      "metadata": {},
      "outputs": [],
      "source": [
        "# delivery mode of noabx hosts with samples at t0=42 days\n",
        "init_host_delmode = md_df_noabx.loc[\n",
        "    md_df_noabx[\"host_id\"].isin(init_hosts), [\"host_id\", \"delivery_mode\"]\n",
        "].drop_duplicates()\n",
        "init_host_delmode[\"delivery_mode\"].value_counts()"
      ]
    },
    {
      "cell_type": "markdown",
      "metadata": {},
      "source": [
        "### Noabx host samples missed with t0=42 days"
      ]
    },
    {
      "cell_type": "code",
      "execution_count": null,
      "metadata": {},
      "outputs": [],
      "source": [
        "# how many unique abx hosts do we have < 42 days?\n",
        "# -> we would miss those by setting t0=42 days\n",
        "abx_init_hosts = md_df_abx.loc[md_df_abx[\"age_days\"] < (28 + 2 * 7), \"host_id\"].unique()\n",
        "len(abx_init_hosts)"
      ]
    },
    {
      "cell_type": "markdown",
      "metadata": {},
      "source": [
        "### Abx hosts with antibiotics exposure at birth"
      ]
    },
    {
      "cell_type": "code",
      "execution_count": null,
      "metadata": {},
      "outputs": [],
      "source": [
        "cond_birth_abx = (\n",
        "    md_df_abx[\"age_months_rounded05\"] - md_df_abx[\"abx_any_last_t_dmonths\"]\n",
        ") == 0.0\n",
        "\n",
        "hosts_wabx_at_birth = md_df_abx.loc[cond_birth_abx, \"host_id\"].unique()\n",
        "print(f\"# hosts with ABX exposure at birth: {len(hosts_wabx_at_birth)}\")"
      ]
    },
    {
      "cell_type": "code",
      "execution_count": null,
      "metadata": {},
      "outputs": [],
      "source": [
        "md_df_abx.loc[cond_birth_abx, \"delivery_mode\"].unique()"
      ]
    },
    {
      "cell_type": "markdown",
      "metadata": {},
      "source": [
        "All of these hosts were vaginally born."
      ]
    },
    {
      "cell_type": "code",
      "execution_count": null,
      "metadata": {},
      "outputs": [],
      "source": [
        "# do we have early microbial samples for these hosts at birth?\n",
        "# -> only 1 host has sample at t0=42 days\n",
        "\n",
        "md_df_abx.loc[\n",
        "    md_df_abx[\"host_id\"].isin(hosts_wabx_at_birth),\n",
        "    [\"host_id\", \"age_days\", \"abx_max_count_ever\", \"delivery_mode\"],\n",
        "].groupby(\"host_id\").min()"
      ]
    }
  ],
  "metadata": {
    "kernelspec": {
      "display_name": "infant-meta",
      "language": "python",
      "name": "python3"
    },
    "language_info": {
      "codemirror_mode": {
        "name": "ipython",
        "version": 3
      },
      "file_extension": ".py",
      "mimetype": "text/x-python",
      "name": "python",
      "nbconvert_exporter": "python",
      "pygments_lexer": "ipython3",
      "version": "3.9.19"
    },
    "orig_nbformat": 4
  },
  "nbformat": 4,
  "nbformat_minor": 2
}
