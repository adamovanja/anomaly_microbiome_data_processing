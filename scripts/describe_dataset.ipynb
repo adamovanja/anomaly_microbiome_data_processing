{
  "cells": [
    {
      "cell_type": "markdown",
      "metadata": {},
      "source": [
        "# Description of feature table"
      ]
    },
    {
      "cell_type": "markdown",
      "metadata": {},
      "source": [
        "## Setup"
      ]
    },
    {
      "cell_type": "code",
      "execution_count": null,
      "metadata": {},
      "outputs": [],
      "source": [
        "import os\n",
        "import matplotlib.pyplot as plt\n",
        "import pandas as pd\n",
        "import seaborn as sns\n",
        "\n",
        "from src.utils import extract_color\n",
        "from src.display_meta import display_diet_information_in_one, plot_box_violin\n",
        "from src.viz_alpha_div import read_and_prep_abx_exposure_data\n",
        "\n",
        "%load_ext autoreload\n",
        "%autoreload 2\n",
        "%matplotlib inline\n",
        "\n",
        "plt.rcParams.update({\"font.family\": \"DejaVu Sans\"})\n",
        "plt.style.use(\"tableau-colorblind10\")"
      ]
    },
    {
      "cell_type": "code",
      "execution_count": 2,
      "metadata": {},
      "outputs": [],
      "source": [
        "# USER DEFINED variables\n",
        "tag = \"20240806\"\n",
        "tag_output = \"entero_genus\"\n",
        "path_to_data = \"../data/final/\"\n",
        "\n",
        "# threshold for coloring microbiome samples after abx exposure\n",
        "th_sample_after_abx_months = 3\n",
        "# END USER DEFINED variables"
      ]
    },
    {
      "cell_type": "code",
      "execution_count": 3,
      "metadata": {},
      "outputs": [],
      "source": [
        "# read processed feature table\n",
        "path_to_ft = os.path.join(path_to_data, f\"ft_vat19_anomaly_v{tag}_{tag_output}.tsv\")\n",
        "# read time-series of exact abx exposure data\n",
        "path_to_abx = os.path.join(path_to_data, f\"ts_vat19_abx_v{tag}.tsv\")\n",
        "\n",
        "# location to save all outputs of this notebook\n",
        "path_to_output = os.path.join(\"../results\", f\"desc_{tag}_{tag_output}\")\n",
        "if not os.path.isdir(path_to_output):\n",
        "    os.makedirs(path_to_output)"
      ]
    },
    {
      "cell_type": "markdown",
      "metadata": {},
      "source": [
        "## Read datasets\n"
      ]
    },
    {
      "cell_type": "code",
      "execution_count": 4,
      "metadata": {},
      "outputs": [],
      "source": [
        "# read and prep abx exposure data\n",
        "abx_df = read_and_prep_abx_exposure_data(path_to_abx)"
      ]
    },
    {
      "cell_type": "code",
      "execution_count": 5,
      "metadata": {},
      "outputs": [],
      "source": [
        "# read and prep metadata\n",
        "md_df = pd.read_csv(path_to_ft, sep=\"\\t\", index_col=0)\n",
        "\n",
        "# columns for below plots\n",
        "md_df = md_df.assign(\n",
        "    sample_lt_xm_after_abx=lambda df: df[\"abx_any_last_t_dmonths\"]\n",
        "    <= th_sample_after_abx_months,\n",
        "    max_abx_w_microbiome=lambda df: df.groupby(\"host_id\")[\"abx_any_cumcount\"].transform(\n",
        "        \"max\"\n",
        "    ),\n",
        ")\n",
        "md_df.sort_values(\n",
        "    [\n",
        "        \"abx_max_count_ever\",\n",
        "        \"max_abx_w_microbiome\",\n",
        "        \"host_id\",\n",
        "        \"age_months_rounded05\",\n",
        "    ],\n",
        "    ascending=[True, True, True, True],\n",
        "    inplace=True,\n",
        ")"
      ]
    },
    {
      "cell_type": "code",
      "execution_count": 6,
      "metadata": {},
      "outputs": [],
      "source": [
        "# sort abx_df in same order and remove samples that don't exist in md_df\n",
        "abx_events = pd.DataFrame()\n",
        "abx_events[\"host_id\"] = md_df[\"host_id\"].unique()\n",
        "abx_events = pd.merge(abx_events, abx_df, on=\"host_id\", how=\"left\")\n",
        "del abx_df\n",
        "assert abx_events.host_id.unique().tolist() == md_df.host_id.unique().tolist()"
      ]
    },
    {
      "cell_type": "code",
      "execution_count": 7,
      "metadata": {},
      "outputs": [],
      "source": [
        "def filter_both_dfs(md_df, abx_events, condition):\n",
        "    md_df_filtered = md_df.groupby(\"host_id\").filter(condition).copy()\n",
        "    abx_events_filtered = abx_events[\n",
        "        abx_events[\"host_id\"].isin(md_df_filtered.host_id.unique())\n",
        "    ].copy()\n",
        "    return md_df_filtered, abx_events_filtered\n",
        "\n",
        "\n",
        "# separate abx and no abx\n",
        "md_df_noabx = md_df[md_df[\"max_abx_w_microbiome\"] == 0].copy()\n",
        "abx_events_noabx = abx_events[\n",
        "    abx_events[\"host_id\"].isin(md_df_noabx.host_id.unique())\n",
        "].copy()\n",
        "\n",
        "md_df_abx = md_df[md_df[\"max_abx_w_microbiome\"] > 0].copy()\n",
        "assert md_df_noabx.shape[0] + md_df_abx.shape[0] == md_df.shape[0]\n",
        "\n",
        "\n",
        "# distinguish between invisible and visible abx with this threshold\n",
        "invisible_condition = lambda x: all(~x[\"sample_lt_xm_after_abx\"])\n",
        "md_df_abx_invisible, abx_events_abx_invisible = filter_both_dfs(\n",
        "    md_df_abx, abx_events, invisible_condition\n",
        ")\n",
        "\n",
        "visible_condition = lambda x: any(x[\"sample_lt_xm_after_abx\"])\n",
        "md_df_abx_visible, abx_events_abx_visible = filter_both_dfs(\n",
        "    md_df_abx, abx_events, visible_condition\n",
        ")\n",
        "\n",
        "assert md_df_abx_invisible.shape[0] + md_df_abx_visible.shape[0] == md_df_abx.shape[0]"
      ]
    },
    {
      "cell_type": "markdown",
      "metadata": {},
      "source": [
        "## Visualize overview of samples and abx events"
      ]
    },
    {
      "cell_type": "code",
      "execution_count": null,
      "metadata": {},
      "outputs": [],
      "source": [
        "# fraction of \"visible\" abx samples from all available microbiome samples\n",
        "all_samples = md_df.shape[0]\n",
        "print(f\"Count of samples: {all_samples}\")\n",
        "frac_abx = 100 * (md_df[\"sample_lt_xm_after_abx\"] == True).sum() / all_samples\n",
        "\n",
        "print(f\"Fraction of potentially abx influenced samples: {frac_abx:.1f} %\")\n",
        "\n",
        "# fraction of samples <=24 months\n",
        "samples_le_24 = md_df[md_df[\"age_months_rounded1\"] <= 24.0].shape[0]\n",
        "frac_le_24 = 100 * samples_le_24 / all_samples\n",
        "print(f\"Fraction of samples within first two years of life: {frac_le_24:.1f} %\")"
      ]
    },
    {
      "cell_type": "code",
      "execution_count": null,
      "metadata": {},
      "outputs": [],
      "source": [
        "hide_ylabel_thickmarks = True  # hiding thickmarks of y-axis for slides\n",
        "if hide_ylabel_thickmarks:\n",
        "    plt.rcParams.update({\"font.size\": 6.5})\n",
        "    fig, axs = plt.subplots(1, 3, figsize=(8, 6), sharex=True, dpi=400)\n",
        "    markersize = 8\n",
        "else:\n",
        "    plt.rcParams.update({\"font.size\": 6})\n",
        "    fig, axs = plt.subplots(1, 3, figsize=(9, 10), sharex=True, dpi=400)\n",
        "    markersize = 10\n",
        "\n",
        "dic_to_plot = {\n",
        "    \"w/o\": [md_df_noabx, abx_events_noabx],\n",
        "    'with \"invisible\"': [md_df_abx_invisible, abx_events_abx_invisible],\n",
        "    \"with visible\": [md_df_abx_visible, abx_events_abx_visible],\n",
        "}\n",
        "i = 0\n",
        "\n",
        "for title, df in dic_to_plot.items():\n",
        "    # samples\n",
        "    sns.scatterplot(\n",
        "        x=\"age_months_rounded05\",\n",
        "        y=\"host_id\",\n",
        "        hue=\"sample_lt_xm_after_abx\",\n",
        "        palette={True: \"sandybrown\", False: \"#004587\"},\n",
        "        data=df[0],\n",
        "        ax=axs[i],\n",
        "        s=markersize,\n",
        "    )\n",
        "    # abx events\n",
        "    sns.scatterplot(\n",
        "        x=\"abx_start_age_months\",\n",
        "        y=\"host_id\",\n",
        "        data=df[1],\n",
        "        ax=axs[i],\n",
        "        s=markersize * 1.5,\n",
        "        marker=\"x\",\n",
        "        color=\"darkred\",\n",
        "        label=\"abx event\",\n",
        "    )\n",
        "\n",
        "    axs[i].set_title(f\"Infants {title} abx exposure ({df[0].host_id.nunique()})\")\n",
        "    axs[i].set_xlabel(\"Age [months]\")\n",
        "    axs[i].set_ylabel(\"Host ID\")\n",
        "    axs[i].margins(y=0.005)\n",
        "    if i != 0:\n",
        "        axs[i].set_ylabel(\"\")\n",
        "    if i != 2:\n",
        "        axs[i].get_legend().remove()\n",
        "    if hide_ylabel_thickmarks:\n",
        "        axs[i].set_yticklabels([])\n",
        "    i += 1\n",
        "\n",
        "axs[2].legend(\n",
        "    loc=\"upper right\",\n",
        "    bbox_to_anchor=(1.60, 1),\n",
        "    title=f\" sample <={th_sample_after_abx_months}m after abx\",\n",
        ")\n",
        "plt.suptitle(\"Distribution of microbial samples over time\", fontsize=10, y=1.0)\n",
        "plt.tight_layout()\n",
        "filename = os.path.join(\n",
        "    path_to_output,\n",
        "    f\"overall_distribution_samples_t{hide_ylabel_thickmarks}.pdf\",\n",
        ")\n",
        "plt.savefig(filename, dpi=400, bbox_inches=\"tight\", format=\"pdf\")\n",
        "plt.show()"
      ]
    },
    {
      "cell_type": "markdown",
      "metadata": {},
      "source": [
        "Unique host counts for different thresholds:\n",
        "\n",
        "| <= `x` m after abx | # no abx | # invisible abx | # visible abx | \n",
        "|--------------------|----------|-----------------|---------------|\n",
        "| 1                  | 140      | 56              | 85            |\n",
        "| 2                  | \"        | 34              | 107           |\n",
        "| 3                  | \"        | 26              | 115           |\n",
        "| 4                  | \"        | 21              | 120           |\n",
        "| 5                  | \"        | 19              | 122           |\n",
        "| 6                  | \"        | 17              | 124           |\n",
        "| 9                  | \"        | 6               | 135           |\n",
        "| 12                 | \"        | 2               | 139           |"
      ]
    },
    {
      "cell_type": "markdown",
      "metadata": {},
      "source": [
        "## Display diet, delivery mode, sex and geolocation covariates"
      ]
    },
    {
      "cell_type": "code",
      "execution_count": null,
      "metadata": {},
      "outputs": [],
      "source": [
        "fig_diet, ax_diet = display_diet_information_in_one(\n",
        "    md_df,\n",
        "    [\"diet_weaning\", \"diet_milk\"],\n",
        "    \"age_months_rounded1\",\n",
        "    \"samples\",\n",
        "    \"Distribution of diet covariates over time\",\n",
        ")\n",
        "\n",
        "filename = os.path.join(\n",
        "    path_to_output,\n",
        "    f\"diet_covariates_over_time.pdf\",\n",
        ")\n",
        "plt.savefig(filename, dpi=400, bbox_inches=\"tight\", format=\"pdf\")"
      ]
    },
    {
      "cell_type": "code",
      "execution_count": null,
      "metadata": {},
      "outputs": [],
      "source": [
        "md_df[[\"host_id\", \"delivery_mode\"]].drop_duplicates().groupby(\"delivery_mode\").count()"
      ]
    },
    {
      "cell_type": "code",
      "execution_count": null,
      "metadata": {},
      "outputs": [],
      "source": [
        "md_df[[\"host_id\", \"geo_location_name\"]].drop_duplicates().groupby(\n",
        "    \"geo_location_name\"\n",
        ").count()"
      ]
    },
    {
      "cell_type": "code",
      "execution_count": null,
      "metadata": {},
      "outputs": [],
      "source": [
        "md_df[[\"host_id\", \"sex\"]].drop_duplicates().groupby(\"sex\").count()"
      ]
    },
    {
      "cell_type": "markdown",
      "metadata": {},
      "source": [
        "## Visualize distribution of samples available "
      ]
    },
    {
      "cell_type": "code",
      "execution_count": null,
      "metadata": {},
      "outputs": [],
      "source": [
        "plt.rcParams.update({\"font.family\": \"DejaVu Sans\", \"font.size\": 8})\n",
        "\n",
        "fig, axs = plt.subplots(1, 3, figsize=(7, 3), dpi=400)\n",
        "title_fontsize = 12\n",
        "ylabel_fontsize = 10\n",
        "# 1) Number of samples per host\n",
        "print(\"Number of samples per host:\")\n",
        "samples_per_host = md_df.groupby(\"host_id\")[\"age_days\"].count()\n",
        "print(samples_per_host.describe())\n",
        "c1 = extract_color(\"tableau-colorblind10\", 2)\n",
        "plot_box_violin(samples_per_host, c1, axs[0])\n",
        "axs[0].set_title(\"Sample count per host\", fontsize=title_fontsize, y=1.01)\n",
        "axs[0].set_ylabel(\"# samples\", fontsize=ylabel_fontsize)\n",
        "axs[0].set_ylim(bottom=0)\n",
        "\n",
        "# 2) Duration between samples\n",
        "print(\"Duration between samples:\")\n",
        "days_between = (\n",
        "    md_df.groupby(\"host_id\")[\"age_days\"]\n",
        "    .apply(lambda x: x.sort_values().diff())\n",
        "    .dropna()\n",
        ")\n",
        "print(days_between.describe())\n",
        "c2 = \"#8e4585\"  # plum\n",
        "plot_box_violin(days_between, c2, axs[1])\n",
        "axs[1].set_title(\"Duration between samples\", fontsize=title_fontsize, y=1.01)\n",
        "axs[1].set_ylabel(\"Days\", fontsize=ylabel_fontsize)\n",
        "axs[1].set_ylim(bottom=0)\n",
        "\n",
        "# 3) First sample distribution\n",
        "print(\"First sample distribution:\")\n",
        "first_sample = md_df.groupby(\"host_id\")[\"age_days\"].min()\n",
        "print(first_sample.describe())\n",
        "c3 = extract_color(\"tableau-colorblind10\", 4)\n",
        "plot_box_violin(first_sample, c3, axs[2])\n",
        "axs[2].set_title(\"First sample\", fontsize=title_fontsize, y=1.01)\n",
        "axs[2].set_ylabel(\"Age [days]\", fontsize=ylabel_fontsize)\n",
        "axs[2].set_ylim(bottom=0)\n",
        "\n",
        "\n",
        "plt.tight_layout()\n",
        "filename = os.path.join(\n",
        "    path_to_output,\n",
        "    f\"sample_characteristics.pdf\",\n",
        ")\n",
        "plt.savefig(filename, dpi=400, bbox_inches=\"tight\", format=\"pdf\")\n",
        "plt.show()"
      ]
    },
    {
      "cell_type": "code",
      "execution_count": null,
      "metadata": {},
      "outputs": [],
      "source": [
        "plt.rcParams.update({\"font.family\": \"DejaVu Sans\", \"font.size\": 8})\n",
        "fig, axs = plt.subplots(1, 3, figsize=(6, 3), sharey=True, dpi=300)\n",
        "\n",
        "dic_to_plot = {\n",
        "    \"w/o abx\": md_df_noabx,\n",
        "    \"w abx\": md_df_abx,\n",
        "    \"all\": md_df,\n",
        "    # 'with \"invisible\" abx': md_df_abx_invisible,\n",
        "    # \"with visible abx\": md_df_abx_visible,\n",
        "}\n",
        "i = 0\n",
        "\n",
        "for title, df in dic_to_plot.items():\n",
        "    samples_per_host = df.groupby(\"host_id\")[\"age_days\"].agg(\"count\")\n",
        "    c = extract_color(\"tableau-colorblind10\", 0)\n",
        "    plot_box_violin(samples_per_host, c, axs[i])\n",
        "\n",
        "    axs[i].set_title(title)\n",
        "    axs[i].set_ylabel(\"\")\n",
        "    axs[i].set_ylim(bottom=0)\n",
        "    i += 1\n",
        "axs[0].set_ylabel(\"# samples\", fontsize=10)\n",
        "plt.suptitle(\"Number of samples per host\", fontsize=12, y=1.0)\n",
        "plt.tight_layout()\n",
        "filename = os.path.join(path_to_output, \"nb_samples_per_host.png\")\n",
        "plt.savefig(filename, dpi=400, bbox_inches=\"tight\")\n",
        "plt.show()"
      ]
    },
    {
      "cell_type": "markdown",
      "metadata": {},
      "source": [
        "## Visualize 1st, 2nd and 3rd abx exposure"
      ]
    },
    {
      "cell_type": "code",
      "execution_count": null,
      "metadata": {},
      "outputs": [],
      "source": [
        "# how many samples are there in visible abx hosts with sample after 1st infant's abx exposure?\n",
        "ls_cols = [\n",
        "    \"host_id\",\n",
        "    \"age_months_rounded05\",\n",
        "    \"abx_any_cumcount\",\n",
        "    \"sample_lt_xm_after_abx\",\n",
        "    \"abx_any_last_t_dmonths\",\n",
        "]\n",
        "all_abx = md_df_abx.host_id.nunique()\n",
        "\n",
        "for i in [1.0, 2.0, 3.0]:\n",
        "    # count the number of hosts with a microbial sample after their first abx exposure\n",
        "    first_abx_exp_sample = (md_df_abx[\"abx_any_cumcount\"] == i) & (\n",
        "        md_df_abx_visible[\"sample_lt_xm_after_abx\"] == True\n",
        "    )\n",
        "    num_hosts = md_df_abx.loc[\n",
        "        first_abx_exp_sample,\n",
        "        \"host_id\",\n",
        "    ].nunique()\n",
        "\n",
        "    print(\n",
        "        f\"Of the \\033[1m{all_abx}\\033[0m hosts with abx exposure,\"\n",
        "        f\" \\033[1m{round(100*num_hosts/all_abx,1)} % ({num_hosts}\\033[0m)\"\n",
        "        f\" have a sample <= {th_sample_after_abx_months} months after {i}-th abx exposure.\"\n",
        "    )\n",
        "\n",
        "    # What's the average age of hosts at nth abx exposure?\n",
        "    fig, ax = plt.subplots(figsize=(6, 1), dpi=400)\n",
        "\n",
        "    first_abx = (\n",
        "        md_df_abx.loc[first_abx_exp_sample, [\"host_id\", \"age_months_rounded05\"]]\n",
        "        .groupby(\"host_id\")\n",
        "        .first()\n",
        "    )\n",
        "    print(f\"Mean age: {first_abx['age_months_rounded05'].mean():.2f} months\")\n",
        "    plot_box_violin(first_abx[\"age_months_rounded05\"], c, ax, horizontal=True)\n",
        "    ax.set_xlabel(\"Age [months]\", fontsize=6)\n",
        "    ax.tick_params(axis=\"x\", labelsize=6)\n",
        "    ax.set_xlim(-0.5, 38.5)\n",
        "    if i == 1:\n",
        "        suff = \"1st\"\n",
        "    elif i == 2:\n",
        "        suff = \"2nd\"\n",
        "    elif i == 3:\n",
        "        suff = \"3rd\"\n",
        "    ax.set_title(f\"Age at {suff} abx exposure\", fontsize=7)\n",
        "    plt.show()"
      ]
    }
  ],
  "metadata": {
    "kernelspec": {
      "display_name": "preprocess_microbiome",
      "language": "python",
      "name": "python3"
    },
    "language_info": {
      "codemirror_mode": {
        "name": "ipython",
        "version": 3
      },
      "file_extension": ".py",
      "mimetype": "text/x-python",
      "name": "python",
      "nbconvert_exporter": "python",
      "pygments_lexer": "ipython3",
      "version": "3.9.19"
    },
    "orig_nbformat": 4
  },
  "nbformat": 4,
  "nbformat_minor": 2
}
