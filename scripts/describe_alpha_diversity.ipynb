{
  "cells": [
    {
      "cell_type": "markdown",
      "metadata": {},
      "source": [
        "# Explore alpha diversity in dataset\n"
      ]
    },
    {
      "cell_type": "markdown",
      "metadata": {},
      "source": [
        "## Setup"
      ]
    },
    {
      "cell_type": "code",
      "execution_count": 1,
      "metadata": {},
      "outputs": [],
      "source": [
        "import os\n",
        "\n",
        "import matplotlib.pyplot as plt\n",
        "import numpy as np\n",
        "import pandas as pd\n",
        "import seaborn as sns\n",
        "from matplotlib.ticker import FixedLocator\n",
        "from src.viz_alpha_div import (\n",
        "    assign_columns_for_plots,\n",
        "    boxplot_all_div_metrics_over_time,\n",
        "    lineplot_all_div_metrics_over_time,\n",
        "    read_and_prep_abx_exposure_data,\n",
        ")\n",
        "\n",
        "%load_ext autoreload\n",
        "%autoreload 2\n",
        "%matplotlib inline\n",
        "\n",
        "plt.rcParams.update({\"font.family\": \"DejaVu Sans\"})\n",
        "plt.style.use(\"tableau-colorblind10\")"
      ]
    },
    {
      "cell_type": "code",
      "execution_count": 2,
      "metadata": {},
      "outputs": [],
      "source": [
        "# USER DEFINED variables\n",
        "tag = \"20240806\"\n",
        "tag_output = \"entero_genus\"\n",
        "path_to_data = \"../data/final/\"\n",
        "\n",
        "# END USER DEFINED variables"
      ]
    },
    {
      "cell_type": "code",
      "execution_count": 3,
      "metadata": {},
      "outputs": [],
      "source": [
        "# Setting all paths needed\n",
        "path_to_ft = os.path.join(path_to_data, f\"ft_vat19_anomaly_v{tag}_{tag_output}.tsv\")\n",
        "path_to_abx = os.path.join(path_to_data, f\"ts_vat19_abx_v{tag}.tsv\")\n",
        "\n",
        "# location to save all outputs of this notebook\n",
        "path_to_output = os.path.join(\"../results\", f\"desc_{tag}_{tag_output}\")\n",
        "if not os.path.isdir(path_to_output):\n",
        "    os.makedirs(path_to_output)"
      ]
    },
    {
      "cell_type": "markdown",
      "metadata": {},
      "source": [
        "## Read datasets"
      ]
    },
    {
      "cell_type": "code",
      "execution_count": 4,
      "metadata": {},
      "outputs": [],
      "source": [
        "abx_df = read_and_prep_abx_exposure_data(path_to_abx)\n",
        "md_df = pd.read_csv(path_to_ft, sep=\"\\t\")\n",
        "md_df = assign_columns_for_plots(md_df)\n",
        "\n",
        "# add simple abx no and yes feature\n",
        "md_df[\"abx\"] = \"no\"\n",
        "md_df.loc[md_df[\"max_abx_w_microbiome\"] > 0.0, \"abx\"] = \"yes\"\n",
        "\n",
        "div_metrics = [\"div_alpha_faith_pd\", \"div_alpha_observed_features\", \"div_alpha_shannon\"]"
      ]
    },
    {
      "cell_type": "code",
      "execution_count": null,
      "metadata": {},
      "outputs": [],
      "source": [
        "noabx = md_df.loc[md_df[\"max_abx_w_microbiome\"] == 0.0, :]\n",
        "hosts_noabx = noabx.host_id.unique()\n",
        "print(f\"Number of unique hosts w/o abx: {noabx.host_id.nunique()}\")\n",
        "\n",
        "abx = md_df.loc[md_df[\"max_abx_w_microbiome\"] > 0.0, :]\n",
        "hosts_abx = abx.host_id.unique()\n",
        "print(f\"Number of unique hosts with abx: {abx.host_id.nunique()}\")\n",
        "\n",
        "# remove hosts with only abx after sample collection from abx cohort:\n",
        "abx_df = abx_df[abx_df.host_id.isin(hosts_abx)].copy()\n",
        "print(\n",
        "    f\"Number of unique hosts with abx and microbial samples after: {abx_df.host_id.nunique()}\"\n",
        ")"
      ]
    },
    {
      "cell_type": "markdown",
      "metadata": {},
      "source": [
        "## Diversity in all noabx infants over time"
      ]
    },
    {
      "cell_type": "code",
      "execution_count": null,
      "metadata": {},
      "outputs": [],
      "source": [
        "x_axis = \"age_months_rounded1\"\n",
        "boxplot_all_div_metrics_over_time(noabx, div_metrics, x_axis, path_to_output)"
      ]
    },
    {
      "cell_type": "markdown",
      "metadata": {},
      "source": [
        "## Diversity in all noabx infants split by covariates"
      ]
    },
    {
      "cell_type": "code",
      "execution_count": null,
      "metadata": {},
      "outputs": [],
      "source": [
        "metric = \"div_alpha_faith_pd\"\n",
        "group_by_values = [\n",
        "    \"delivery_mode\",\n",
        "    \"diet_milk_s\",\n",
        "    \"diet_weaning\",\n",
        "    \"geo_location_name\",\n",
        "    \"sex\",\n",
        "]\n",
        "lineplot_all_div_metrics_over_time(\n",
        "    noabx, metric, x_axis, group_by_values, path_to_output\n",
        ")"
      ]
    },
    {
      "cell_type": "markdown",
      "metadata": {},
      "source": [
        "## Abx/ no abx effect on alpha diversity over time"
      ]
    },
    {
      "cell_type": "code",
      "execution_count": null,
      "metadata": {},
      "outputs": [],
      "source": [
        "# add simple abx no and yes feature\n",
        "md_df[\"abx\"] = \"no\"\n",
        "md_df.loc[md_df[\"abx_max_count_ever\"] > 0.0, \"abx\"] = \"yes\"\n",
        "\n",
        "group_by_values = [\"abx\", \"abx\", \"abx\", \"abx\"]  # just for lazy scaling purposes\n",
        "lineplot_all_div_metrics_over_time(\n",
        "    md_df, metric, x_axis, group_by_values, path_to_output\n",
        ")"
      ]
    },
    {
      "cell_type": "code",
      "execution_count": null,
      "metadata": {},
      "outputs": [],
      "source": [
        "# get density of abx events over time\n",
        "fig, ax = plt.subplots(1, 1, figsize=(7, 3), dpi=400)\n",
        "palette = sns.color_palette(\"husl\", 2)\n",
        "abx_df[\"abx_start_age_months_rounded1\"] = abx_df[\"abx_start_age_months\"].round()\n",
        "abx_df[\"abx_start_age_months_rounded1\"].hist(bins=range(0, 39), ax=ax, color=palette[1])\n",
        "max_age = 39.0\n",
        "ax.xaxis.set_major_locator(FixedLocator(np.arange(0, max_age, 1.0)))\n",
        "ax.set_xticklabels(np.arange(0, max_age, 1.0), rotation=90)\n",
        "\n",
        "ax.set_xlabel(\"age_months_rounded1\")\n",
        "ax.set_ylabel(\"Number of abx courses\")\n",
        "ax.set_title(\"Number of abx courses in cohort\")\n",
        "ax.set_xlim(-0.5, 38.5)\n",
        "ax.grid(False)\n",
        "\n",
        "plt.tight_layout()\n",
        "plt.show()"
      ]
    },
    {
      "cell_type": "markdown",
      "metadata": {},
      "source": [
        "# Number of abx courses per host"
      ]
    },
    {
      "cell_type": "code",
      "execution_count": null,
      "metadata": {},
      "outputs": [],
      "source": [
        "# select only unique samples with host_id and \"abx_max_count_ever\"\n",
        "md_df_unique = md_df.drop_duplicates([\"host_id\", \"max_abx_w_microbiome\"]).copy()"
      ]
    },
    {
      "cell_type": "code",
      "execution_count": null,
      "metadata": {},
      "outputs": [],
      "source": [
        "# fraction of hosts with 1-3 abx courses in observed time period\n",
        "hosts_w_abx = md_df_unique[md_df_unique[\"max_abx_w_microbiome\"] > 0.0].host_id.nunique()\n",
        "hosts_w_abx_le3 = md_df_unique[\n",
        "    np.logical_and(\n",
        "        md_df_unique[\"max_abx_w_microbiome\"] >= 1.0,\n",
        "        md_df_unique[\"max_abx_w_microbiome\"] <= 3.0,\n",
        "    )\n",
        "].host_id.nunique()\n",
        "frac_le3 = 100 * (hosts_w_abx_le3 / hosts_w_abx)\n",
        "\n",
        "print(f\"Fraction of hosts with 1-3 abx courses: {frac_le3:.1f} %\")"
      ]
    },
    {
      "cell_type": "code",
      "execution_count": null,
      "metadata": {},
      "outputs": [],
      "source": [
        "# plot\n",
        "fig, ax = plt.subplots(1, 1, figsize=(9, 3), dpi=400)\n",
        "md_df_unique.groupby(\"max_abx_w_microbiome\")[\"host_id\"].count().plot(kind=\"bar\", ax=ax)\n",
        "\n",
        "ax.set_xticklabels(ax.get_xticklabels(), rotation=0)\n",
        "ax.set_xticklabels(ax.get_xticks().astype(int))\n",
        "ax.set_ylabel(\"Number of hosts\")\n",
        "ax.set_xlabel(\"Total number of abx courses (with matching samples)\")\n",
        "ax.set_title(\"Total number of abx courses per host\")\n",
        "plt.tight_layout()\n",
        "filename = os.path.join(path_to_output, \"nb_abx_courses_per_host.png\")\n",
        "plt.savefig(filename, dpi=400, bbox_inches=\"tight\")\n",
        "plt.show()"
      ]
    },
    {
      "cell_type": "markdown",
      "metadata": {},
      "source": [
        "## Number of abx courses per sample"
      ]
    },
    {
      "cell_type": "code",
      "execution_count": null,
      "metadata": {},
      "outputs": [],
      "source": [
        "print(md_df.shape)\n",
        "md_df_s = md_df[md_df[\"abx_any_last_t_dmonths\"] <= 1.0].copy()\n",
        "print(md_df_s.shape)\n",
        "\n",
        "cols_to_keep = [\"host_id\", \"abx_any_cumcount\"]\n",
        "md_df_s = md_df_s[cols_to_keep].copy()\n",
        "md_df_s.head()"
      ]
    },
    {
      "cell_type": "code",
      "execution_count": null,
      "metadata": {},
      "outputs": [],
      "source": [
        "fig, ax = plt.subplots(1, 1, figsize=(9, 3), dpi=400)\n",
        "md_df_sp = md_df_s.reset_index()\n",
        "md_df_sp.groupby(\"abx_any_cumcount\")[\"index\"].count().plot(kind=\"bar\", ax=ax)\n",
        "\n",
        "# ax.set_xticklabels(ax.get_xticklabels(), rotation=0)\n",
        "# ax.set_xticklabels(ax.get_xticks().astype(int))\n",
        "ax.set_ylabel(\"Number of samples\")\n",
        "ax.set_xlabel(\"Cum count of abx courses (with matching samples 1 month after)\")\n",
        "ax.set_title(\"Cum count of abx courses per 1-month sample\")\n",
        "plt.tight_layout()\n",
        "# filename = os.path.join(path_to_output, \"nb_abx_courses_per_host.png\")\n",
        "# plt.savefig(filename, dpi=400, bbox_inches=\"tight\")\n",
        "plt.show()"
      ]
    }
  ],
  "metadata": {
    "kernelspec": {
      "display_name": "preprocess_microbiome",
      "language": "python",
      "name": "python3"
    },
    "language_info": {
      "codemirror_mode": {
        "name": "ipython",
        "version": 3
      },
      "file_extension": ".py",
      "mimetype": "text/x-python",
      "name": "python",
      "nbconvert_exporter": "python",
      "pygments_lexer": "ipython3",
      "version": "3.9.19"
    }
  },
  "nbformat": 4,
  "nbformat_minor": 2
}
