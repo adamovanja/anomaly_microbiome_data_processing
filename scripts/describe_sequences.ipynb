{
  "cells": [
    {
      "cell_type": "markdown",
      "metadata": {},
      "source": [
        "# Check inferred nucleotide sequences\n",
        "\n",
        "**Goals:**\n",
        "* Get # sequences per sample and sequence length after each of the former sequence fetch and processing steps."
      ]
    },
    {
      "cell_type": "code",
      "execution_count": null,
      "metadata": {},
      "outputs": [],
      "source": [
        "import os\n",
        "import pandas as pd\n",
        "import numpy as np\n",
        "import qiime2 as q2\n",
        "import matplotlib.pyplot as plt\n",
        "\n",
        "from IPython.display import display\n",
        "\n",
        "%load_ext autoreload\n",
        "%autoreload 2\n",
        "\n",
        "%matplotlib inline"
      ]
    },
    {
      "cell_type": "code",
      "execution_count": null,
      "metadata": {},
      "outputs": [],
      "source": [
        "# plotting settings\n",
        "plt.style.use(\"tableau-colorblind10\")\n",
        "titlesize = 14\n",
        "labelsize = 13\n",
        "ticklabel = 12\n",
        "alpha = 0.5\n",
        "plt.rcParams.update({\"font.size\": labelsize})"
      ]
    },
    {
      "cell_type": "code",
      "execution_count": null,
      "metadata": {},
      "outputs": [],
      "source": [
        "tag = \"20240806\"\n",
        "path2md = f\"../data/raw/metadata_proc_v{tag}.tsv\"\n",
        "# define path2data from path2md\n",
        "path2data = os.path.dirname(path2md)\n",
        "# read metadata\n",
        "df_md = pd.read_csv(path2md, sep=\"\\t\", index_col=0, dtype=\"str\")\n",
        "studies_ls = [x for x in df_md[\"study_cohort_name\"].unique()]"
      ]
    },
    {
      "attachments": {},
      "cell_type": "markdown",
      "metadata": {},
      "source": [
        "### Check sequencing counts and lengths after each processing step\n"
      ]
    },
    {
      "cell_type": "code",
      "execution_count": null,
      "metadata": {},
      "outputs": [],
      "source": [
        "for study_name in studies_ls:\n",
        "    print(study_name)\n",
        "    counts_df = pd.read_csv(\n",
        "        os.path.join(path2data, \"check_seqs\", f\"stats_{study_name}.csv\"), index_col=0\n",
        "    )\n",
        "    display(counts_df)"
      ]
    },
    {
      "attachments": {},
      "cell_type": "markdown",
      "metadata": {},
      "source": [
        "### Check dada2 stats"
      ]
    },
    {
      "cell_type": "code",
      "execution_count": null,
      "metadata": {},
      "outputs": [],
      "source": [
        "df_stats = pd.DataFrame()\n",
        "\n",
        "# get stats and print per study\n",
        "for study_name in studies_ls:\n",
        "    stats = q2.Artifact.load(os.path.join(path2data, f\"dada2stats_{study_name}.qza\"))\n",
        "    stats = stats.view(q2.Metadata).to_dataframe()\n",
        "\n",
        "    stats[\"percentage_input_lost_filter2merge\"] = (\n",
        "        stats[\"percentage of input passed filter\"] - stats[\"percentage of input merged\"]\n",
        "    )\n",
        "\n",
        "    cols2print = [x for x in stats.columns if x.startswith(\"percentage\")]\n",
        "    df_stats[study_name] = stats[cols2print].mean()\n",
        "\n",
        "df_stats"
      ]
    },
    {
      "attachments": {},
      "cell_type": "markdown",
      "metadata": {},
      "source": [
        "### Inspect feature table (OTUs) stats\n",
        "Note: these are not fully comparable: as here we need to rarefy (adjust equal sampling depth) for a proper comparison. Rarefaction is performed in a bootstrapped (n=500) manner when calculating the alpha diversity metrics."
      ]
    },
    {
      "cell_type": "code",
      "execution_count": null,
      "metadata": {},
      "outputs": [],
      "source": [
        "df_final = pd.DataFrame()\n",
        "for study_name in studies_ls:\n",
        "    counts_df = pd.read_csv(\n",
        "        os.path.join(path2data, \"check_seqs\", f\"stats_{study_name}.csv\"), index_col=0\n",
        "    )\n",
        "    df_final[study_name] = counts_df.iloc[-1, 1:].T\n",
        "\n",
        "df_final = df_final.T.copy()"
      ]
    },
    {
      "cell_type": "code",
      "execution_count": null,
      "metadata": {},
      "outputs": [],
      "source": [
        "def color_gradient(val, cmap, min_val, max_val, alpha=1.0):\n",
        "    norm_val = (val - min_val) / (max_val - min_val)\n",
        "    rgba_color = cmap(norm_val)\n",
        "    color = (\n",
        "        f\"rgba({rgba_color[0]*255}, {rgba_color[1]*255}, {rgba_color[2]*255}, {alpha})\"\n",
        "    )\n",
        "    return f\"background-color: {color}\"\n",
        "\n",
        "\n",
        "def column_gradient(column, cmap, alpha=1.0):\n",
        "    min_val = column.min()\n",
        "    max_val = column.max()\n",
        "    return [color_gradient(val, cmap, min_val, max_val, alpha=alpha) for val in column]\n",
        "\n",
        "\n",
        "cmap = plt.get_cmap(\"RdYlGn\")\n",
        "opacity = 0.3  # Adjust the opacity value between 0 and 1\n",
        "styled_df = df_final.style.apply(\n",
        "    lambda col: column_gradient(col, cmap, alpha=opacity), axis=0\n",
        ")\n",
        "styled_df"
      ]
    }
  ],
  "metadata": {
    "kernelspec": {
      "display_name": "infant-meta-23-5-new",
      "language": "python",
      "name": "python3"
    },
    "language_info": {
      "codemirror_mode": {
        "name": "ipython",
        "version": 3
      },
      "file_extension": ".py",
      "mimetype": "text/x-python",
      "name": "python",
      "nbconvert_exporter": "python",
      "pygments_lexer": "ipython3",
      "version": "3.9.19"
    },
    "vscode": {
      "interpreter": {
        "hash": "818d0504c069f16d69479a59fb5b879edbd193cec9db49dc309ee3ec8b960092"
      }
    }
  },
  "nbformat": 4,
  "nbformat_minor": 4
}
