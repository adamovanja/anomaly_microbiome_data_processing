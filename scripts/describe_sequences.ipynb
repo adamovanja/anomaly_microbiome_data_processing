{
  "cells": [
    {
      "cell_type": "markdown",
      "metadata": {},
      "source": [
        "# Check inferred nucleotide sequences\n",
        "\n",
        "**Goals:**\n",
        "* Get # sequences per sample and sequence length after each of the former sequence fetch and processing steps."
      ]
    },
    {
      "cell_type": "code",
      "execution_count": 1,
      "metadata": {},
      "outputs": [
        {
          "name": "stderr",
          "output_type": "stream",
          "text": [
            "/cluster/project/bokulich/adamova/_conda_envs/preprocess_microbiome/lib/python3.9/site-packages/paramiko/pkey.py:100: CryptographyDeprecationWarning: TripleDES has been moved to cryptography.hazmat.decrepit.ciphers.algorithms.TripleDES and will be removed from this module in 48.0.0.\n",
            "  \"cipher\": algorithms.TripleDES,\n",
            "/cluster/project/bokulich/adamova/_conda_envs/preprocess_microbiome/lib/python3.9/site-packages/paramiko/transport.py:259: CryptographyDeprecationWarning: TripleDES has been moved to cryptography.hazmat.decrepit.ciphers.algorithms.TripleDES and will be removed from this module in 48.0.0.\n",
            "  \"class\": algorithms.TripleDES,\n"
          ]
        }
      ],
      "source": [
        "import os\n",
        "import pandas as pd\n",
        "import numpy as np\n",
        "import qiime2 as q2\n",
        "import matplotlib.pyplot as plt\n",
        "\n",
        "from IPython.display import display\n",
        "\n",
        "%load_ext autoreload\n",
        "%autoreload 2\n",
        "\n",
        "%matplotlib inline"
      ]
    },
    {
      "cell_type": "code",
      "execution_count": 2,
      "metadata": {},
      "outputs": [],
      "source": [
        "# plotting settings\n",
        "plt.style.use(\"tableau-colorblind10\")\n",
        "titlesize = 14\n",
        "labelsize = 13\n",
        "ticklabel = 12\n",
        "alpha = 0.5\n",
        "plt.rcParams.update({\"font.size\": labelsize})"
      ]
    },
    {
      "cell_type": "code",
      "execution_count": 3,
      "metadata": {},
      "outputs": [],
      "source": [
        "tag = \"20240725\"\n",
        "path2md = f\"../data/raw/metadata_proc_v{tag}.tsv\"\n",
        "# define path2data from path2md\n",
        "path2data = os.path.dirname(path2md)\n",
        "# read metadata\n",
        "df_md = pd.read_csv(path2md, sep=\"\\t\", index_col=0, dtype=\"str\")\n",
        "studies_ls = [x for x in df_md[\"study_cohort_name\"].unique()]"
      ]
    },
    {
      "attachments": {},
      "cell_type": "markdown",
      "metadata": {},
      "source": [
        "### Check sequencing counts and lengths after each processing step\n"
      ]
    },
    {
      "cell_type": "code",
      "execution_count": 4,
      "metadata": {},
      "outputs": [
        {
          "name": "stdout",
          "output_type": "stream",
          "text": [
            "vatanen19_abx\n"
          ]
        },
        {
          "data": {
            "text/html": [
              "<div>\n",
              "<style scoped>\n",
              "    .dataframe tbody tr th:only-of-type {\n",
              "        vertical-align: middle;\n",
              "    }\n",
              "\n",
              "    .dataframe tbody tr th {\n",
              "        vertical-align: top;\n",
              "    }\n",
              "\n",
              "    .dataframe thead th {\n",
              "        text-align: right;\n",
              "    }\n",
              "</style>\n",
              "<table border=\"1\" class=\"dataframe\">\n",
              "  <thead>\n",
              "    <tr style=\"text-align: right;\">\n",
              "      <th></th>\n",
              "      <th>sample_count</th>\n",
              "      <th>total_nb_sequences</th>\n",
              "      <th>mean_nb_seq_p_sample</th>\n",
              "      <th>mean_nb_unique_seq_p_sample</th>\n",
              "      <th>median_len_sequences</th>\n",
              "    </tr>\n",
              "  </thead>\n",
              "  <tbody>\n",
              "    <tr>\n",
              "      <th>raw</th>\n",
              "      <td>1098.0</td>\n",
              "      <td>NaN</td>\n",
              "      <td>52235.207650</td>\n",
              "      <td>NaN</td>\n",
              "      <td>175.0</td>\n",
              "    </tr>\n",
              "    <tr>\n",
              "      <th>trim</th>\n",
              "      <td>1098.0</td>\n",
              "      <td>NaN</td>\n",
              "      <td>52235.207650</td>\n",
              "      <td>NaN</td>\n",
              "      <td>175.0</td>\n",
              "    </tr>\n",
              "    <tr>\n",
              "      <th>denoise</th>\n",
              "      <td>1098.0</td>\n",
              "      <td>6304.0</td>\n",
              "      <td>36160.632969</td>\n",
              "      <td>68.724954</td>\n",
              "      <td>253.0</td>\n",
              "    </tr>\n",
              "    <tr>\n",
              "      <th>cluster</th>\n",
              "      <td>1098.0</td>\n",
              "      <td>2020.0</td>\n",
              "      <td>36112.623862</td>\n",
              "      <td>64.024590</td>\n",
              "      <td>253.0</td>\n",
              "    </tr>\n",
              "  </tbody>\n",
              "</table>\n",
              "</div>"
            ],
            "text/plain": [
              "         sample_count  total_nb_sequences  mean_nb_seq_p_sample  \\\n",
              "raw            1098.0                 NaN          52235.207650   \n",
              "trim           1098.0                 NaN          52235.207650   \n",
              "denoise        1098.0              6304.0          36160.632969   \n",
              "cluster        1098.0              2020.0          36112.623862   \n",
              "\n",
              "         mean_nb_unique_seq_p_sample  median_len_sequences  \n",
              "raw                              NaN                 175.0  \n",
              "trim                             NaN                 175.0  \n",
              "denoise                    68.724954                 253.0  \n",
              "cluster                    64.024590                 253.0  "
            ]
          },
          "metadata": {},
          "output_type": "display_data"
        },
        {
          "name": "stdout",
          "output_type": "stream",
          "text": [
            "vatanen19_t1d\n"
          ]
        },
        {
          "data": {
            "text/html": [
              "<div>\n",
              "<style scoped>\n",
              "    .dataframe tbody tr th:only-of-type {\n",
              "        vertical-align: middle;\n",
              "    }\n",
              "\n",
              "    .dataframe tbody tr th {\n",
              "        vertical-align: top;\n",
              "    }\n",
              "\n",
              "    .dataframe thead th {\n",
              "        text-align: right;\n",
              "    }\n",
              "</style>\n",
              "<table border=\"1\" class=\"dataframe\">\n",
              "  <thead>\n",
              "    <tr style=\"text-align: right;\">\n",
              "      <th></th>\n",
              "      <th>sample_count</th>\n",
              "      <th>total_nb_sequences</th>\n",
              "      <th>mean_nb_seq_p_sample</th>\n",
              "      <th>mean_nb_unique_seq_p_sample</th>\n",
              "      <th>median_len_sequences</th>\n",
              "    </tr>\n",
              "  </thead>\n",
              "  <tbody>\n",
              "    <tr>\n",
              "      <th>raw</th>\n",
              "      <td>655.0</td>\n",
              "      <td>NaN</td>\n",
              "      <td>62734.505344</td>\n",
              "      <td>NaN</td>\n",
              "      <td>175.0</td>\n",
              "    </tr>\n",
              "    <tr>\n",
              "      <th>trim</th>\n",
              "      <td>655.0</td>\n",
              "      <td>NaN</td>\n",
              "      <td>62729.215267</td>\n",
              "      <td>NaN</td>\n",
              "      <td>175.0</td>\n",
              "    </tr>\n",
              "    <tr>\n",
              "      <th>denoise</th>\n",
              "      <td>655.0</td>\n",
              "      <td>3386.0</td>\n",
              "      <td>39773.603053</td>\n",
              "      <td>73.232061</td>\n",
              "      <td>253.0</td>\n",
              "    </tr>\n",
              "    <tr>\n",
              "      <th>cluster</th>\n",
              "      <td>655.0</td>\n",
              "      <td>1684.0</td>\n",
              "      <td>39664.870229</td>\n",
              "      <td>68.448855</td>\n",
              "      <td>253.0</td>\n",
              "    </tr>\n",
              "  </tbody>\n",
              "</table>\n",
              "</div>"
            ],
            "text/plain": [
              "         sample_count  total_nb_sequences  mean_nb_seq_p_sample  \\\n",
              "raw             655.0                 NaN          62734.505344   \n",
              "trim            655.0                 NaN          62729.215267   \n",
              "denoise         655.0              3386.0          39773.603053   \n",
              "cluster         655.0              1684.0          39664.870229   \n",
              "\n",
              "         mean_nb_unique_seq_p_sample  median_len_sequences  \n",
              "raw                              NaN                 175.0  \n",
              "trim                             NaN                 175.0  \n",
              "denoise                    73.232061                 253.0  \n",
              "cluster                    68.448855                 253.0  "
            ]
          },
          "metadata": {},
          "output_type": "display_data"
        },
        {
          "name": "stdout",
          "output_type": "stream",
          "text": [
            "vatanen19_karelia\n"
          ]
        },
        {
          "data": {
            "text/html": [
              "<div>\n",
              "<style scoped>\n",
              "    .dataframe tbody tr th:only-of-type {\n",
              "        vertical-align: middle;\n",
              "    }\n",
              "\n",
              "    .dataframe tbody tr th {\n",
              "        vertical-align: top;\n",
              "    }\n",
              "\n",
              "    .dataframe thead th {\n",
              "        text-align: right;\n",
              "    }\n",
              "</style>\n",
              "<table border=\"1\" class=\"dataframe\">\n",
              "  <thead>\n",
              "    <tr style=\"text-align: right;\">\n",
              "      <th></th>\n",
              "      <th>sample_count</th>\n",
              "      <th>total_nb_sequences</th>\n",
              "      <th>mean_nb_seq_p_sample</th>\n",
              "      <th>mean_nb_unique_seq_p_sample</th>\n",
              "      <th>median_len_sequences</th>\n",
              "    </tr>\n",
              "  </thead>\n",
              "  <tbody>\n",
              "    <tr>\n",
              "      <th>raw</th>\n",
              "      <td>1451.0</td>\n",
              "      <td>NaN</td>\n",
              "      <td>68414.849070</td>\n",
              "      <td>NaN</td>\n",
              "      <td>175.0</td>\n",
              "    </tr>\n",
              "    <tr>\n",
              "      <th>trim</th>\n",
              "      <td>1451.0</td>\n",
              "      <td>NaN</td>\n",
              "      <td>68414.826327</td>\n",
              "      <td>NaN</td>\n",
              "      <td>175.0</td>\n",
              "    </tr>\n",
              "    <tr>\n",
              "      <th>denoise</th>\n",
              "      <td>1451.0</td>\n",
              "      <td>8045.0</td>\n",
              "      <td>34750.093728</td>\n",
              "      <td>62.620262</td>\n",
              "      <td>253.0</td>\n",
              "    </tr>\n",
              "    <tr>\n",
              "      <th>cluster</th>\n",
              "      <td>1451.0</td>\n",
              "      <td>2761.0</td>\n",
              "      <td>34708.864232</td>\n",
              "      <td>58.530669</td>\n",
              "      <td>253.0</td>\n",
              "    </tr>\n",
              "  </tbody>\n",
              "</table>\n",
              "</div>"
            ],
            "text/plain": [
              "         sample_count  total_nb_sequences  mean_nb_seq_p_sample  \\\n",
              "raw            1451.0                 NaN          68414.849070   \n",
              "trim           1451.0                 NaN          68414.826327   \n",
              "denoise        1451.0              8045.0          34750.093728   \n",
              "cluster        1451.0              2761.0          34708.864232   \n",
              "\n",
              "         mean_nb_unique_seq_p_sample  median_len_sequences  \n",
              "raw                              NaN                 175.0  \n",
              "trim                             NaN                 175.0  \n",
              "denoise                    62.620262                 253.0  \n",
              "cluster                    58.530669                 253.0  "
            ]
          },
          "metadata": {},
          "output_type": "display_data"
        }
      ],
      "source": [
        "for study_name in studies_ls:\n",
        "    print(study_name)\n",
        "    counts_df = pd.read_csv(\n",
        "        os.path.join(path2data, \"check_seqs\", f\"stats_{study_name}.csv\"), index_col=0\n",
        "    )\n",
        "    display(counts_df)"
      ]
    },
    {
      "attachments": {},
      "cell_type": "markdown",
      "metadata": {},
      "source": [
        "### Check dada2 stats"
      ]
    },
    {
      "cell_type": "code",
      "execution_count": 5,
      "metadata": {},
      "outputs": [
        {
          "data": {
            "text/html": [
              "<div>\n",
              "<style scoped>\n",
              "    .dataframe tbody tr th:only-of-type {\n",
              "        vertical-align: middle;\n",
              "    }\n",
              "\n",
              "    .dataframe tbody tr th {\n",
              "        vertical-align: top;\n",
              "    }\n",
              "\n",
              "    .dataframe thead th {\n",
              "        text-align: right;\n",
              "    }\n",
              "</style>\n",
              "<table border=\"1\" class=\"dataframe\">\n",
              "  <thead>\n",
              "    <tr style=\"text-align: right;\">\n",
              "      <th></th>\n",
              "      <th>vatanen19_abx</th>\n",
              "      <th>vatanen19_t1d</th>\n",
              "      <th>vatanen19_karelia</th>\n",
              "    </tr>\n",
              "  </thead>\n",
              "  <tbody>\n",
              "    <tr>\n",
              "      <th>percentage of input passed filter</th>\n",
              "      <td>84.469918</td>\n",
              "      <td>70.279969</td>\n",
              "      <td>68.018849</td>\n",
              "    </tr>\n",
              "    <tr>\n",
              "      <th>percentage of input merged</th>\n",
              "      <td>80.296803</td>\n",
              "      <td>68.230397</td>\n",
              "      <td>57.085803</td>\n",
              "    </tr>\n",
              "    <tr>\n",
              "      <th>percentage of input non-chimeric</th>\n",
              "      <td>71.003370</td>\n",
              "      <td>64.705420</td>\n",
              "      <td>52.651192</td>\n",
              "    </tr>\n",
              "    <tr>\n",
              "      <th>percentage_input_lost_filter2merge</th>\n",
              "      <td>4.173115</td>\n",
              "      <td>2.049573</td>\n",
              "      <td>10.933046</td>\n",
              "    </tr>\n",
              "  </tbody>\n",
              "</table>\n",
              "</div>"
            ],
            "text/plain": [
              "                                    vatanen19_abx  vatanen19_t1d  \\\n",
              "percentage of input passed filter       84.469918      70.279969   \n",
              "percentage of input merged              80.296803      68.230397   \n",
              "percentage of input non-chimeric        71.003370      64.705420   \n",
              "percentage_input_lost_filter2merge       4.173115       2.049573   \n",
              "\n",
              "                                    vatanen19_karelia  \n",
              "percentage of input passed filter           68.018849  \n",
              "percentage of input merged                  57.085803  \n",
              "percentage of input non-chimeric            52.651192  \n",
              "percentage_input_lost_filter2merge          10.933046  "
            ]
          },
          "execution_count": 5,
          "metadata": {},
          "output_type": "execute_result"
        }
      ],
      "source": [
        "df_stats = pd.DataFrame()\n",
        "\n",
        "# get stats and print per study\n",
        "for study_name in studies_ls:\n",
        "    stats = q2.Artifact.load(os.path.join(path2data, f\"dada2stats_{study_name}.qza\"))\n",
        "    stats = stats.view(q2.Metadata).to_dataframe()\n",
        "\n",
        "    stats[\"percentage_input_lost_filter2merge\"] = (\n",
        "        stats[\"percentage of input passed filter\"] - stats[\"percentage of input merged\"]\n",
        "    )\n",
        "\n",
        "    cols2print = [x for x in stats.columns if x.startswith(\"percentage\")]\n",
        "    df_stats[study_name] = stats[cols2print].mean()\n",
        "\n",
        "df_stats"
      ]
    },
    {
      "attachments": {},
      "cell_type": "markdown",
      "metadata": {},
      "source": [
        "### Inspect feature table (OTUs) stats\n",
        "Note: these are not fully comparable: as here we need to rarefy (adjust equal sampling depth) for a proper comparison. Rarefaction is performed in a bootstrapped (n=500) manner when calculating the alpha diversity metrics."
      ]
    },
    {
      "cell_type": "code",
      "execution_count": 6,
      "metadata": {},
      "outputs": [],
      "source": [
        "df_final = pd.DataFrame()\n",
        "for study_name in studies_ls:\n",
        "    counts_df = pd.read_csv(\n",
        "        os.path.join(path2data, \"check_seqs\", f\"stats_{study_name}.csv\"), index_col=0\n",
        "    )\n",
        "    df_final[study_name] = counts_df.iloc[-1, 1:].T\n",
        "\n",
        "df_final = df_final.T.copy()"
      ]
    },
    {
      "cell_type": "code",
      "execution_count": 7,
      "metadata": {},
      "outputs": [
        {
          "name": "stderr",
          "output_type": "stream",
          "text": [
            "/tmp/ipykernel_645979/4089946018.py:2: RuntimeWarning: invalid value encountered in scalar divide\n",
            "  norm_val = (val - min_val) / (max_val - min_val)\n"
          ]
        },
        {
          "data": {
            "text/html": [
              "<style type=\"text/css\">\n",
              "#T_ceb3e_row0_col0 {\n",
              "  background-color: rgba(253.0980392156863, 178.9019607843137, 101.11764705882351, 0.3);\n",
              "}\n",
              "#T_ceb3e_row0_col1 {\n",
              "  background-color: rgba(251.41176470588238, 162.52941176470586, 91.70588235294116, 0.3);\n",
              "}\n",
              "#T_ceb3e_row0_col2 {\n",
              "  background-color: rgba(234.8823529411765, 246.52941176470588, 163.47058823529414, 0.3);\n",
              "}\n",
              "#T_ceb3e_row0_col3, #T_ceb3e_row1_col3, #T_ceb3e_row2_col3 {\n",
              "  background-color: rgba(0.0, 0.0, 0.0, 0.3);\n",
              "}\n",
              "#T_ceb3e_row1_col0, #T_ceb3e_row2_col1, #T_ceb3e_row2_col2 {\n",
              "  background-color: rgba(165.0, 0.0, 38.0, 0.3);\n",
              "}\n",
              "#T_ceb3e_row1_col1, #T_ceb3e_row1_col2, #T_ceb3e_row2_col0 {\n",
              "  background-color: rgba(0.0, 104.0, 55.0, 0.3);\n",
              "}\n",
              "</style>\n",
              "<table id=\"T_ceb3e\">\n",
              "  <thead>\n",
              "    <tr>\n",
              "      <th class=\"blank level0\" >&nbsp;</th>\n",
              "      <th id=\"T_ceb3e_level0_col0\" class=\"col_heading level0 col0\" >total_nb_sequences</th>\n",
              "      <th id=\"T_ceb3e_level0_col1\" class=\"col_heading level0 col1\" >mean_nb_seq_p_sample</th>\n",
              "      <th id=\"T_ceb3e_level0_col2\" class=\"col_heading level0 col2\" >mean_nb_unique_seq_p_sample</th>\n",
              "      <th id=\"T_ceb3e_level0_col3\" class=\"col_heading level0 col3\" >median_len_sequences</th>\n",
              "    </tr>\n",
              "  </thead>\n",
              "  <tbody>\n",
              "    <tr>\n",
              "      <th id=\"T_ceb3e_level0_row0\" class=\"row_heading level0 row0\" >vatanen19_abx</th>\n",
              "      <td id=\"T_ceb3e_row0_col0\" class=\"data row0 col0\" >2020.000000</td>\n",
              "      <td id=\"T_ceb3e_row0_col1\" class=\"data row0 col1\" >36112.623862</td>\n",
              "      <td id=\"T_ceb3e_row0_col2\" class=\"data row0 col2\" >64.024590</td>\n",
              "      <td id=\"T_ceb3e_row0_col3\" class=\"data row0 col3\" >253.000000</td>\n",
              "    </tr>\n",
              "    <tr>\n",
              "      <th id=\"T_ceb3e_level0_row1\" class=\"row_heading level0 row1\" >vatanen19_t1d</th>\n",
              "      <td id=\"T_ceb3e_row1_col0\" class=\"data row1 col0\" >1684.000000</td>\n",
              "      <td id=\"T_ceb3e_row1_col1\" class=\"data row1 col1\" >39664.870229</td>\n",
              "      <td id=\"T_ceb3e_row1_col2\" class=\"data row1 col2\" >68.448855</td>\n",
              "      <td id=\"T_ceb3e_row1_col3\" class=\"data row1 col3\" >253.000000</td>\n",
              "    </tr>\n",
              "    <tr>\n",
              "      <th id=\"T_ceb3e_level0_row2\" class=\"row_heading level0 row2\" >vatanen19_karelia</th>\n",
              "      <td id=\"T_ceb3e_row2_col0\" class=\"data row2 col0\" >2761.000000</td>\n",
              "      <td id=\"T_ceb3e_row2_col1\" class=\"data row2 col1\" >34708.864232</td>\n",
              "      <td id=\"T_ceb3e_row2_col2\" class=\"data row2 col2\" >58.530669</td>\n",
              "      <td id=\"T_ceb3e_row2_col3\" class=\"data row2 col3\" >253.000000</td>\n",
              "    </tr>\n",
              "  </tbody>\n",
              "</table>\n"
            ],
            "text/plain": [
              "<pandas.io.formats.style.Styler at 0x15406ae07f70>"
            ]
          },
          "execution_count": 7,
          "metadata": {},
          "output_type": "execute_result"
        }
      ],
      "source": [
        "def color_gradient(val, cmap, min_val, max_val, alpha=1.0):\n",
        "    norm_val = (val - min_val) / (max_val - min_val)\n",
        "    rgba_color = cmap(norm_val)\n",
        "    color = (\n",
        "        f\"rgba({rgba_color[0]*255}, {rgba_color[1]*255}, {rgba_color[2]*255}, {alpha})\"\n",
        "    )\n",
        "    return f\"background-color: {color}\"\n",
        "\n",
        "\n",
        "def column_gradient(column, cmap, alpha=1.0):\n",
        "    min_val = column.min()\n",
        "    max_val = column.max()\n",
        "    return [color_gradient(val, cmap, min_val, max_val, alpha=alpha) for val in column]\n",
        "\n",
        "\n",
        "cmap = plt.get_cmap(\"RdYlGn\")\n",
        "opacity = 0.3  # Adjust the opacity value between 0 and 1\n",
        "styled_df = df_final.style.apply(\n",
        "    lambda col: column_gradient(col, cmap, alpha=opacity), axis=0\n",
        ")\n",
        "styled_df"
      ]
    }
  ],
  "metadata": {
    "kernelspec": {
      "display_name": "infant-meta-23-5-new",
      "language": "python",
      "name": "python3"
    },
    "language_info": {
      "codemirror_mode": {
        "name": "ipython",
        "version": 3
      },
      "file_extension": ".py",
      "mimetype": "text/x-python",
      "name": "python",
      "nbconvert_exporter": "python",
      "pygments_lexer": "ipython3",
      "version": "3.9.19"
    },
    "vscode": {
      "interpreter": {
        "hash": "818d0504c069f16d69479a59fb5b879edbd193cec9db49dc309ee3ec8b960092"
      }
    }
  },
  "nbformat": 4,
  "nbformat_minor": 4
}
